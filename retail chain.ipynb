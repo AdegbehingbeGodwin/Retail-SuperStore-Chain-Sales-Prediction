{
 "cells": [
  {
   "cell_type": "markdown",
   "metadata": {
    "id": "LV_Zm6LD0MkP"
   },
   "source": [
    "## Objective:\n",
    "A Retail Superstore chain wants to gain insights on the performance of each its stores and make strategic decisions on its operating model.\n",
    "\n",
    "As a Data Scientist you are required to understand the data provided and help the client predict the sales at the register in current hour based on the sales attribute associated with each store.\n",
    "\n",
    "The given data consists of 4 broad attribute types:\n",
    "   * Register: Attributes related to the register at which the sales transaction has taken place\n",
    "   * Cashier: Attributes related to cashier working at the register\n",
    "   * Store: Attributes related to a particular store\n",
    "   * Region: Attributes related to a group of stores in the region\n",
    "\n",
    "\n",
    "\n",
    "## Problem Statement:\n",
    "Predict the sales at the register in current hour and prioritize the individual attributes that affect the sales.\n"
   ]
  },
  {
   "cell_type": "markdown",
   "metadata": {
    "id": "5z5J4HoOz60m"
   },
   "source": [
    "#### Upload your datasets to colab using upload to storage session taskbar"
   ]
  },
  {
   "cell_type": "markdown",
   "metadata": {
    "id": "7dQ_ujSBzh0H"
   },
   "source": [
    "## Import Required Libraries"
   ]
  },
  {
   "cell_type": "code",
   "execution_count": 1,
   "metadata": {
    "id": "44e01b6d"
   },
   "outputs": [],
   "source": [
    "import numpy as np\n",
    "import pandas as pd\n",
    "import matplotlib.pyplot as plt\n",
    "import matplotlib.dates as mdates\n",
    "from matplotlib import colors\n",
    "#\n",
    "import xgboost as xgb\n",
    "#\n",
    "import os\n",
    "import sys\n",
    "#\n",
    "from datetime import datetime, timedelta\n",
    "from time import time\n",
    "from uuid import uuid4\n",
    "from scipy.ndimage import convolve1d\n",
    "#\n",
    "from sklearn.metrics import make_scorer, r2_score\n",
    "from sklearn.model_selection import cross_validate\n",
    "# \n",
    "import warnings\n",
    "warnings.filterwarnings(action='ignore', category=UserWarning)\n",
    "\n",
    "%matplotlib inline"
   ]
  },
  {
   "cell_type": "markdown",
   "metadata": {
    "id": "2a6ce5de"
   },
   "source": [
    "## Label Encoding and Null Value Imputaion Functions"
   ]
  },
  {
   "cell_type": "code",
   "execution_count": 2,
   "metadata": {
    "id": "ffcf7816"
   },
   "outputs": [],
   "source": [
    "def impute_nulls(df, imputation_cols, imputation_mapping={}):\n",
    "    '''Imputes NULL values for a set of continuous variable columns.\n",
    "       NULLs will be sampled from a normal distribution defined by the\n",
    "       mean & std.dev of the other data in the column.\n",
    "\n",
    "       You can also provide a mapping of such means & std.devs in the\n",
    "       'imputation_mappings' variable, e.x.:\n",
    "           {'input_var1': {'mean': 1.045, 'std': 0.034}, ...}\n",
    "       The mappings will be returned along with the transformed DataFrame.\n",
    "       This allows re-use of the same NULL imputations on other datasets.'''\n",
    "\n",
    "    # Impute NULLs in each desired input column separately\n",
    "    for col in imputation_cols:\n",
    "\n",
    "        # Lookup mean & std.dev from imputation mappings, if they exist.\n",
    "        # Otherwise compute them from input data\n",
    "        try:\n",
    "            mean_val = imputation_mapping[col]['mean']\n",
    "            std_val = imputation_mapping[col]['std']\n",
    "        except KeyError:\n",
    "            mean_val = df[col].mean(skipna=True)\n",
    "            std_val = df[col].std(skipna=True)\n",
    "            imputation_mapping[col] = {'mean': mean_val, 'std': std_val}\n",
    "\n",
    "        # Transform NULL values by sampling a normal distribution with mean & std.dev computed above\n",
    "        mask = df[col].isnull()\n",
    "        n_nulls = sum(mask)\n",
    "        if ( n_nulls > 0 ):\n",
    "            print('WARN: Replaced {0:>4d} NULLs   ({1:s})'.format(n_nulls, col))\n",
    "            imputed_vals = np.random.normal(mean_val, std_val, n_nulls)\n",
    "            df.loc[mask,col] = imputed_vals\n",
    "\n",
    "    return df, imputation_mapping\n",
    "\n",
    "\n",
    "def encode_categoricals(df, categorical_cols):\n",
    "    '''Performs one-hot encoding of categorical variable columns.\n",
    "       Each distinct level value will be mapped to its own new column.\n",
    "\n",
    "       For example, suppose input_col = 'variable1' and it has 3 possible\n",
    "       values: 'A', 'B', 'C'. Then we'll produce 3 new columns:\n",
    "           'is_variable1=A', 'is_variable1=B', 'is_variable1=C'\n",
    "\n",
    "       NOTE: It's possible for encodings to mis-align between the train/test\n",
    "           and validation sets. Hopefully the training set contains a superset\n",
    "           of level values.'''\n",
    "\n",
    "    # Encode categoricals in each input column separately\n",
    "    for col in categorical_cols:\n",
    "\n",
    "        # For each distinct level value in the column, create a new one-hot column.\n",
    "        # Use a mask to set values to 0/1 appropriately\n",
    "        level_vals = df[col].unique()\n",
    "        for val in level_vals:\n",
    "            encoded_col = 'is_{0:s}={1:s}'.format(col, str(val))\n",
    "            mask = df[col] == val\n",
    "            df.loc[mask,encoded_col] = 1\n",
    "            df.loc[~mask,encoded_col] = 0\n",
    "\n",
    "    return df\n"
   ]
  },
  {
   "cell_type": "markdown",
   "metadata": {
    "id": "44215b0a"
   },
   "source": [
    "## Weight Sampling to reduce bias"
   ]
  },
  {
   "cell_type": "code",
   "execution_count": 3,
   "metadata": {
    "id": "949c5317"
   },
   "outputs": [],
   "source": [
    "def get_smoothing_kernel(kernel_size=5, sigma=1.0):\n",
    "    '''Builds a Gaussian smoothing kernel of a desired size (# of elements) and\n",
    "       spread. The Gaussian will be positioned at the center of the kernel.'''\n",
    "\n",
    "    # Calculate a Gaussian with mean x0 = 0 and std = sigma\n",
    "    # NOTE: Renormalize so sum(y) = 1.0\n",
    "    x = np.linspace(-(kernel_size-1) / 2., (kernel_size - 1) / 2., kernel_size)   # x-lims for Gaussian\n",
    "    kernel = np.exp(-0.5 * np.square(x) / np.square(sigma))\n",
    "    kernel = kernel / np.sum(kernel)\n",
    "\n",
    "    return kernel\n",
    "\n",
    "\n",
    "def get_sample_weights(target_vals, target_bins,\n",
    "                       smoothing_kernel_props={'size': 51, 'sigma': 5},\n",
    "                       weighting_method='inverse_square',\n",
    "                       max_weight=100,\n",
    "                       make_plots=False):\n",
    "    '''Gets reweighting factors for each sample in a regression problem, following the\n",
    "       LDS method detailed here:\n",
    "           https://towardsdatascience.com/strategies-and-tactics-for-regression-on-imbalanced-data-61eeb0921fca\n",
    "\n",
    "       Essentially, we do these steps:\n",
    "       1.) Get a histogram of target values\n",
    "       2.) Use a Gaussian filter to smooth the histogram\n",
    "       3.) Use inverse or inverse-sqrt of counts to weight each bin\n",
    "       4.) Map each sample to its new weight\n",
    "\n",
    "       The output 'sample_weights' vector will be the same shape as 'target_vals'.\n",
    "    '''\n",
    "\n",
    "    # Get the histogram / distribution of target values -- these will be our 'classes'\n",
    "    # NOTE: Convert to float for convolution below\n",
    "    [counts, bins] = np.histogram(target_vals, bins=target_bins)\n",
    "    counts = [float(c) for c in counts]\n",
    "\n",
    "    # Apply a Gaussian smoothing filter to the counts distribution\n",
    "    # NOTE: Renormalize so the convolved distribution maintains the same # of total counts\n",
    "    kernel = get_smoothing_kernel(kernel_size=smoothing_kernel_props['size'], sigma=smoothing_kernel_props['sigma'])\n",
    "    smooth_counts = convolve1d(counts, weights=kernel, mode='mirror')\n",
    "    smooth_counts = smooth_counts * ( sum(counts) / sum(smooth_counts) )\n",
    "\n",
    "    # Make sure there are no 0-count bins. Replace them with the lowest non-zero count\n",
    "    mask = ( smooth_counts == 0 )\n",
    "    smooth_counts[mask] = np.min( smooth_counts[np.nonzero(smooth_counts)] )\n",
    "\n",
    "    # Get weights for each 'class' from the smoothed counts\n",
    "    # NOTE: Supports either 1/N or 1/N^2 reweighting\n",
    "    class_weights = np.ones(smooth_counts.shape)   # Default: No reweighting\n",
    "    if ( weighting_method == 'inverse_square' ):\n",
    "        class_weights = 1 / np.sqrt(smooth_counts)\n",
    "    if ( weighting_method == 'inverse' ):\n",
    "        class_weights = 1 / smooth_counts\n",
    "\n",
    "    # Now map each sample to the corresponding class weight\n",
    "    # NOTE: np.digitize returns the bin index used in histogramming. With k bins, we get k-1 class weights\n",
    "    idxs = np.digitize(target_vals, target_bins) - 1\n",
    "    sample_weights = class_weights[idxs]\n",
    "\n",
    "    # Rescale weights so the sum(sample_weights) = n_samples. This is what we'd get without reweighting\n",
    "    n_samples = len(target_vals)\n",
    "    scaling_factor = n_samples / sum(sample_weights)\n",
    "    sample_weights = sample_weights * scaling_factor\n",
    "\n",
    "    # Truncate very large weights to reduce noise (especially helpful for 'inverse' weighting mode)\n",
    "    sample_weights = np.clip(sample_weights, 0, max_weight)\n",
    "\n",
    "    # (OPTIONAL) Make plots of both the weights & the target distributions (smoothed & unsmoothed)\n",
    "    if ( make_plots ):\n",
    "\n",
    "        # Plot 1: Target distribution (smoothed vs. unsmoothed)\n",
    "        fig = plt.figure(figsize=[8,4])\n",
    "        ax = fig.gca()\n",
    "        plt.plot(target_bins[1:], counts)\n",
    "        plt.plot(target_bins[1:], smooth_counts, color='orange')\n",
    "        plt.title('Class Distributions', size=20)\n",
    "        plt.xlabel('Target Value', size=16)\n",
    "        plt.ylabel('Counts', size=16)\n",
    "        ax.tick_params(axis='both', labelsize=14)\n",
    "        plt.xlim([target_bins[0], target_bins[-1]])\n",
    "        plt.ylim([0,None])\n",
    "        plt.grid('minor')\n",
    "        plt.legend(['Original', 'Smoothed'], fontsize=14)\n",
    "\n",
    "        # Plot 2: Class weights\n",
    "        fig = plt.figure(figsize=[8,4])\n",
    "        ax = fig.gca()\n",
    "        plt.plot(target_bins[1:], np.clip(class_weights * scaling_factor, 0, max_weight))\n",
    "        plt.hlines([1], target_bins[0], target_bins[-1], colors='orange')\n",
    "        plt.title('Class Weights', size=20)\n",
    "        plt.xlabel('Target Value', size=16)\n",
    "        plt.ylabel('Weight', size=16)\n",
    "        ax.tick_params(axis='both', labelsize=14)\n",
    "        plt.xlim([target_bins[0], target_bins[-1]])\n",
    "        plt.ylim([0,None])\n",
    "        plt.grid('minor')\n",
    "        plt.legend(['Reweighted', 'Unweighted'], fontsize=14)\n",
    "\n",
    "    return sample_weights\n"
   ]
  },
  {
   "cell_type": "markdown",
   "metadata": {
    "id": "8ba8fcde"
   },
   "source": [
    "## Define Hyperparameter Tuning parameters"
   ]
  },
  {
   "cell_type": "code",
   "execution_count": 4,
   "metadata": {
    "id": "c842542e"
   },
   "outputs": [],
   "source": [
    "HYPERPARAMETER_DTYPES = {\n",
    "    'n_estimators': int,\n",
    "    'max_depth': int,\n",
    "    'learning_rate': float\n",
    "}"
   ]
  },
  {
   "cell_type": "markdown",
   "metadata": {
    "id": "RgSKIdMk0p8p"
   },
   "source": [
    "## Define Heperparameter tuning function"
   ]
  },
  {
   "cell_type": "code",
   "execution_count": 5,
   "metadata": {
    "id": "3aedee25"
   },
   "outputs": [],
   "source": [
    "def random_search_xgb(hyperparameter_space, X_train, y_train,\n",
    "                      wt_train=None,\n",
    "                      metric_to_optimize='r2',\n",
    "                      n_runs=100,\n",
    "                      n_folds=5,\n",
    "                      n_jobs=4,\n",
    "                      print_status=True):\n",
    "    '''Performs random search hyperparameter tuning for an XGBoost model. We'll evaluate model\n",
    "       performance at many random points in the hyperparameter space, choosing the best result\n",
    "       that was found. Supports sample reweighting via 'wt_train'.\n",
    "\n",
    "       Parameters are optimized using cross-validation of a specified model evaluation metric:\n",
    "           -- 'r2'\n",
    "           -- 'rmse'\n",
    "           -- 'mae'\n",
    "           -- 'mape'\n",
    "           -- 'racc'\n",
    "       This last one is the 'regression accuracy' at 10% maximum error, i.e. the number\n",
    "       of predictions that are within 10% of true.\n",
    "\n",
    "       Each key in the hyperparameter_space dictionary should be a named hyperparameter,\n",
    "       while values should be arrays containing the min/max values to test.\n",
    "\n",
    "       Returns the trained optimal model, along with performance metrics and the optimal\n",
    "       hyperparameters used.\n",
    "\n",
    "       NOTE: Currently only support 'n_estimators', 'max_depth', and 'learning_rate'.'''\n",
    "\n",
    "    t0 = time()\n",
    "\n",
    "    # Initialize the return values\n",
    "    optimal_model = None\n",
    "    optimal_hyperparameters = {}\n",
    "    optimal_eval_metrics = None\n",
    "\n",
    "    # Print status message\n",
    "    if ( print_status ):\n",
    "        print('XGBoost Hyperparameter Search')\n",
    "        print('-'*40)\n",
    "        print('Method:       {0:s}'.format('random-search'))\n",
    "        print('Dataset:      {0:d} pts x {1:d} dimensions'.format(X_train.shape[0], X_train.shape[1]))\n",
    "        print('Optimizer:    {0:s}'.format(metric_to_optimize.upper()))\n",
    "        print('# of Runs:    {0:d}'.format(n_runs))\n",
    "        print()\n",
    "        print('Hyperparameter Space:')\n",
    "        for param in hyperparameter_space.keys():\n",
    "            print('-- {0:<16s} [{1:s}]'.format(param+':', ', '.join([str(val) for val in hyperparameter_space[param]]) ))\n",
    "        print('\\n')\n",
    "\n",
    "    # Try a bunch of random sets of hyperparameters, returning results for the best one\n",
    "    optimal_metric_val = None\n",
    "    n_evals = 0\n",
    "    for run_num in range(n_runs):\n",
    "\n",
    "        # Pick some random hyperparameters to start with\n",
    "        current_hyperparameters = get_random_hyperparameters(hyperparameter_space)\n",
    "        current_metric_val = None\n",
    "\n",
    "        # (OPTIONAL) Print progress\n",
    "        if ( print_status ):\n",
    "            format_str = 'Progress: Run {0:>3s} / {1:d}   -->   Hyperparameters: {2:s}' + ' '*80\n",
    "            print(format_str.format('#{0:d}'.format(run_num+1), n_runs, str(current_hyperparameters)), end='\\r', flush=True)\n",
    "\n",
    "        # Evaluate an XGBoost Regressor with the current hyperparameters\n",
    "        current_model = initialize_model_xgb(current_hyperparameters)\n",
    "        [current_eval_results, _] = evaluate_regression_model(current_model, X_train=X_train, y_train=y_train, wt_train=wt_train,\n",
    "                                                              n_folds=n_folds, n_jobs=n_jobs)\n",
    "        n_evals += 1\n",
    "\n",
    "        # Compare model performance w/ best found so far\n",
    "        current_metric_val = current_eval_results[metric_to_optimize]['mean']\n",
    "        if ( ( optimal_metric_val is None ) or ( current_metric_val > optimal_metric_val ) ):\n",
    "            optimal_metric_val = current_metric_val\n",
    "            optimal_hyperparameters = current_hyperparameters\n",
    "            optimal_eval_results = current_eval_results\n",
    "\n",
    "\n",
    "    # Train the final optimized model\n",
    "    optimal_model = train_model_xgb(optimal_hyperparameters, X_train, y_train, wt_train=wt_train)\n",
    "\n",
    "    # (OPTIONAL) Print summary\n",
    "    if ( print_status ):\n",
    "        print('\\n\\n')\n",
    "        print('Search Complete')\n",
    "        print('-'*40)\n",
    "        print('Optimal Params:      {0:s}'.format(str(optimal_hyperparameters)))\n",
    "        print('Model Performance:   {0:s} = {1:3.4f}'.format(metric_to_optimize, optimal_metric_val))\n",
    "        print('Params Evaluated:    {0:d}'.format(n_evals))\n",
    "        print('Execution Time:      {0:3.2f}s'.format(time()-t0))\n",
    "        print()\n",
    "\n",
    "    return optimal_model, optimal_hyperparameters, optimal_eval_results\n",
    "\n",
    "\n",
    "def get_random_hyperparameters(hyperparameter_space):\n",
    "    '''Randomly selects a point in hyperparameter space. Outputs will fall within the\n",
    "       provided ranges'''\n",
    "\n",
    "    # For each hyperparameter, pick a random value somewhere within the provided range\n",
    "    hyperparameters = {}\n",
    "    for param in hyperparameter_space.keys():\n",
    "        min_value = min(hyperparameter_space[param])\n",
    "        max_value = max(hyperparameter_space[param])\n",
    "        hyperparameters[param] = min_value + (max_value - min_value) * np.random.random()\n",
    "\n",
    "        # Convert to desired datatype\n",
    "        if ( HYPERPARAMETER_DTYPES[param] == int ):\n",
    "            hyperparameters[param] = int(np.round(hyperparameters[param]))\n",
    "\n",
    "    return hyperparameters\n",
    "\n",
    "\n",
    "def initialize_model_xgb(hyperparameters):\n",
    "    '''Initializes an XGBoost Regressor w/ desired hyperparameters'''\n",
    "\n",
    "    xgb_model = xgb.XGBRegressor(n_estimators=int(hyperparameters['n_estimators']),\n",
    "                                 max_depth=int(hyperparameters['max_depth']),\n",
    "                                 learning_rate=hyperparameters['learning_rate'])\n",
    "\n",
    "    return xgb_model\n",
    "\n",
    "\n",
    "def train_model_xgb(hyperparameters, X_train, y_train, wt_train=None):\n",
    "    '''Trains an XGBoost Regressor with a desired set of hyperparameters. Supports\n",
    "       sample reweighting via 'wt_train'.'''\n",
    "\n",
    "    # Initialize the model w/ desired hyperparameters\n",
    "    xgb_model = initialize_model_xgb(hyperparameters)\n",
    "\n",
    "    # Fit to training data\n",
    "    xgb_model.fit(X_train, y_train, sample_weight=wt_train)\n",
    "\n",
    "    return xgb_model\n"
   ]
  },
  {
   "cell_type": "markdown",
   "metadata": {
    "id": "69f0666a"
   },
   "source": [
    "## Model Evaluation Functions"
   ]
  },
  {
   "cell_type": "code",
   "execution_count": 6,
   "metadata": {
    "id": "ffa7fe57"
   },
   "outputs": [],
   "source": [
    "def evaluate_regression_model(regression_model,\n",
    "                              X_train=None,\n",
    "                              y_train=None,\n",
    "                              wt_train=None,\n",
    "                              X_test=None,\n",
    "                              y_test=None,\n",
    "                              wt_test=None,\n",
    "                              y_lims=[None,None],\n",
    "                              n_folds=5,\n",
    "                              n_jobs=4):\n",
    "    '''Evaluates a regression model on a set of common performance metrics. Cross-validation\n",
    "       is used to evaluate the training set (X_train, y_train), resulting in multiple values\n",
    "       per metric. For the test set (X_test, y_test), metrics are computed on the model's\n",
    "       predictions, resulting in a single value per metric. Supports any model architecture\n",
    "       with *.fit() and *.predict() methods.\n",
    "\n",
    "       Supports sample reweighting via 'wt_train'.\n",
    "\n",
    "       NOTE: User has the option to coerce predictions within the range given by y_lims.'''\n",
    "\n",
    "    # Initialize return values\n",
    "    eval_results__train = {}\n",
    "    eval_results__test = {}\n",
    "\n",
    "    # If sample weights are provided, package them as a kwarg for cross_validate()\n",
    "    fit_params = None\n",
    "    if ( wt_train is not None ):\n",
    "        fit_params = {'sample_weight': wt_train}\n",
    "\n",
    "    # If a training set is provided, run cross-validation on it\n",
    "    if ( ( X_train is not None ) and ( y_train is not None ) ):\n",
    "\n",
    "        # Cross-validate model performance\n",
    "        eval_metrics = {\n",
    "            'r2': make_scorer(r2_score),\n",
    "            'rmse': make_scorer(rmse),\n",
    "            'mae': make_scorer(mae),\n",
    "            'mape': make_scorer(mape),\n",
    "            'racc': make_scorer(regression_accuracy)\n",
    "        }\n",
    "        eval_results = cross_validate(regression_model, X_train, y_train, fit_params=fit_params,\n",
    "                                      cv=n_folds, scoring=eval_metrics, n_jobs=n_jobs)\n",
    "\n",
    "        # Let's compute means & standard dev's for all metrics, and change the output names\n",
    "        # NOTE: Cross-validation above gives the metric names a 'test_' prefix\n",
    "        output_name_mappings = {\n",
    "            'fit_time': 'fit_time',\n",
    "            'score_time': 'score_time',\n",
    "            'test_r2': 'r2',\n",
    "            'test_rmse': 'rmse',#\n",
    "            'test_mae': 'mae',\n",
    "            'test_mape': 'mape',\n",
    "            'test_racc': 'racc'\n",
    "        }\n",
    "        for metric in eval_results.keys():\n",
    "            metric_ = output_name_mappings[metric]\n",
    "            eval_results__train[metric_] = {\n",
    "                'mean': np.mean(eval_results[metric]),\n",
    "                'std': np.std(eval_results[metric]),\n",
    "                'data': eval_results[metric]\n",
    "            }\n",
    "\n",
    "    # If a test set is provided, run evaluation on the predictions\n",
    "    if ( ( X_test is not None ) and ( y_test is not None ) ):\n",
    "\n",
    "        # Get measured & predicted results for the test dataset\n",
    "        y_meas = y_test\n",
    "        y_pred = regression_model.predict(X_test)\n",
    "\n",
    "        # (OPTIONAL) Coerce predictions into allowed range (e.x. non-negative)\n",
    "        if ( y_lims[0] is not None ):\n",
    "            mask = y_pred < y_lims[0]\n",
    "            y_pred[mask] = y_lims[0]\n",
    "        if ( y_lims[1] is not None ):\n",
    "            mask = y_pred > y_lims[1]\n",
    "            y_pred[mask] = y_lims[1]\n",
    "\n",
    "        # Compute the desired performance metrics\n",
    "        eval_results__test = {\n",
    "            'data': {'y_meas': y_meas, 'y_pred': y_pred},\n",
    "            'r2': r2_score(y_meas, y_pred),\n",
    "            'rmse': rmse(y_meas, y_pred),\n",
    "            'mae': mae(y_meas, y_pred),\n",
    "            'mape': mape(y_meas, y_pred),\n",
    "            'racc': regression_accuracy(y_meas, y_pred)\n",
    "        }\n",
    "    return eval_results__train, eval_results__test\n",
    "\n",
    "\n",
    "def regression_accuracy(y_meas, y_pred, max_error=20, error_type='relative'):\n",
    "    '''Compares predicted & measured values, returning the percentage of predictions\n",
    "       that are within a set error limit. This error limit can be an absolute value\n",
    "       or a relative percentage'''\n",
    "\n",
    "    # OPTION 1: Relative percentage\n",
    "    if ( error_type == 'relative' ):\n",
    "        mask = 100.0 * abs((y_pred - y_meas) / y_meas) < max_error\n",
    "\n",
    "    # OPTION 2: Absolute value\n",
    "    if ( error_type == 'absolute' ):\n",
    "        mask = abs(y_pred - y_meas) < max_error\n",
    "\n",
    "    accuracy = sum(mask) / len(mask)\n",
    "\n",
    "    return accuracy\n",
    "\n",
    "\n",
    "def rmse(y_meas, y_pred):\n",
    "    '''Computes RMSE for predicted vs. measured data points'''\n",
    "\n",
    "    n_samples = len(y_meas)\n",
    "    rmse = np.linalg.norm(y_pred - y_meas) / np.sqrt(n_samples)\n",
    "\n",
    "    return rmse\n",
    "\n",
    "\n",
    "def mae(y_meas, y_pred):\n",
    "    '''Computes MAE for predicted vs. measured data points'''\n",
    "\n",
    "    n_samples = len(y_meas)\n",
    "    mae = np.sum(np.abs(y_pred - y_meas)) / n_samples\n",
    "\n",
    "    return mae\n",
    "\n",
    "\n",
    "def mape(y_meas, y_pred):\n",
    "    '''Computes MAPE for predicted vs. measured data points'''\n",
    "\n",
    "    n_samples = len(y_meas)\n",
    "    mape = np.sum(np.abs((y_pred - y_meas)/y_meas)) / n_samples\n",
    "\n",
    "    return mape\n"
   ]
  },
  {
   "cell_type": "markdown",
   "metadata": {
    "id": "0d5b1285"
   },
   "source": [
    "## Function to  visualize data"
   ]
  },
  {
   "cell_type": "code",
   "execution_count": 7,
   "metadata": {
    "id": "7a366855"
   },
   "outputs": [],
   "source": [
    "# Define a few standard color palettes\n",
    "color_palettes = {\n",
    "\n",
    "    'tableau': [\n",
    "        'tab:blue', 'tab:orange', 'tab:green', 'tab:red', 'tab:purple',\n",
    "        'tab:brown', 'tab:pink', 'tab:gray', 'tab:olive', 'tab:cyan'\n",
    "    ],\n",
    "\n",
    "    'blues': ['darkblue', 'blue', 'slateblue', 'rebeccapurple', 'indigo'],\n",
    "\n",
    "    'oranges': ['darkorange', 'orange', 'sandybrown', 'peru', 'saddlebrown']\n",
    "\n",
    "}\n",
    "\n"
   ]
  },
  {
   "cell_type": "code",
   "execution_count": 8,
   "metadata": {
    "id": "c5f5ef9d"
   },
   "outputs": [],
   "source": [
    "def plot_distribution(data,\n",
    "                      data_labels=None,\n",
    "                      bins=None,\n",
    "                      title='Distribution',\n",
    "                      xlabel='Variable',\n",
    "                      hist_units='counts',\n",
    "                      output_filepath=None):\n",
    "    '''Plots the probability distribution of one or more variables. User can choose\n",
    "       output in counts/bin or probability/bin.'''\n",
    "\n",
    "    # Define default bin structure if not provided\n",
    "    if ( bins is None ):\n",
    "        n_bins = 50\n",
    "        min_val = None\n",
    "        max_val = None\n",
    "        for dataset in data:\n",
    "            this_min = np.nanmin(dataset)\n",
    "            this_max = np.nanquantile(dataset, 0.99) #np.nanmax(dataset)\n",
    "            if ( min_val is None ):\n",
    "                min_val = this_min\n",
    "            elif ( this_min < min_val ):\n",
    "                min_val = this_min\n",
    "            if ( max_val is None ):\n",
    "                max_val = this_min\n",
    "            elif ( this_max > max_val ):\n",
    "                max_val = this_max\n",
    "        bins = np.linspace(min_val, max_val, n_bins)\n",
    "\n",
    "    # Set up plot\n",
    "    fig = plt.figure(figsize=[10,8], facecolor='w')\n",
    "    ax = plt.gca()\n",
    "\n",
    "    # Plot a histogram for each input data series\n",
    "    # NOTE: Normalize to probability per bin if desired\n",
    "    for dataset in data:\n",
    "        [counts,bins] = np.histogram(dataset, bins=bins)\n",
    "        counts_ = np.append([0], counts)\n",
    "        if ( hist_units == 'probability' ):\n",
    "            counts_ = counts_ / sum(counts_)\n",
    "        plt.step(bins,counts_)\n",
    "\n",
    "    # Set up plot properties\n",
    "    plt.title(title, size=24)\n",
    "    plt.xlabel(xlabel, size=20)\n",
    "    if ( hist_units == 'probability' ):\n",
    "        plt.ylabel('Probability Density\\n(1/Bin)', size=20)\n",
    "    if ( hist_units == 'counts' ):\n",
    "        plt.ylabel('Counts\\n(#/Bin)', size=20)\n",
    "    plt.xticks(fontsize=16)\n",
    "    plt.yticks(fontsize=16)\n",
    "    plt.xlim([bins[0],bins[-1]])\n",
    "    plt.ylim([0,None])\n",
    "    plt.grid('minor')\n",
    "\n",
    "    # Set up legend\n",
    "    if ( data_labels is not None ):\n",
    "        ax.legend(data_labels, fontsize=16, shadow=True)\n",
    "        #bbox_to_anchor = [1.05,0.5]\n",
    "        #ax.legend(data_labels, loc='center left', fontsize=16, shadow=True, bbox_to_anchor=bbox_to_anchor)\n",
    "\n",
    "    # (OPTIONAL) Save figure if desired\n",
    "    if ( output_filepath is not None ):\n",
    "        plt.savefig(output_filepath, bbox_inches='tight')\n",
    "    plt.show()\n",
    "#\n",
    "\n",
    "def plot_heatmap(x, y,\n",
    "                 x_bins=None,\n",
    "                 y_bins=None,\n",
    "                 aspect='equal',\n",
    "                 scale='log',\n",
    "                 title='Heatmap',\n",
    "                 xlabel='Variable 1',\n",
    "                 ylabel='Variable 2',\n",
    "                 cmap='Reds',\n",
    "                 plot_diagonal=False,\n",
    "                 output_filepath=None):\n",
    "    '''Renders a heatmap of y vs. x. Generally produces a clearer visualization\n",
    "       than a simple scatterplot'''\n",
    "\n",
    "    # Define default bin structures if they weren't provided\n",
    "    if ( x_bins is None ):\n",
    "        x_bins = np.linspace(min(x), max(x), 100)\n",
    "    if ( y_bins is None ):\n",
    "        y_bins = np.linspace(min(y), max(y), 100)\n",
    "\n",
    "    # Bin the data into a 2D histogram\n",
    "    [counts, x_bins, y_bins] = np.histogram2d(x, y, bins=[x_bins, y_bins])\n",
    "    counts = np.transpose(counts)\n",
    "\n",
    "    # Set up colormap scale\n",
    "    # NOTE: Enforce 'linear' scale if counts are too low\n",
    "    if ( np.max(counts) < 10 ):\n",
    "        scale = 'linear'\n",
    "    color_norm = None\n",
    "    if ( scale == 'log' ):\n",
    "        color_norm = colors.LogNorm(vmin=1, vmax=counts.max())\n",
    "        # If using log-scale, set 0-count bins to 1. Otherwise we'll have missing pixels in the heatmap\n",
    "        mask = counts == 0\n",
    "        counts[mask] = 1\n",
    "\n",
    "    # Render a heatmap from the counts, using bin limits to define the extent of the figure\n",
    "    fig = plt.figure(figsize=[12.5,8], facecolor='w')\n",
    "    ax = plt.gca()\n",
    "    cb = plt.imshow(counts, cmap=cmap, norm=color_norm,\n",
    "                    origin='lower', aspect=aspect, interpolation='bilinear',\n",
    "                    extent=[x_bins[0],x_bins[-1],y_bins[0],y_bins[-1]])\n",
    "\n",
    "    # Set up plot properties\n",
    "    plt.title(title, size=24)\n",
    "    plt.xlabel(xlabel, size=20)\n",
    "    plt.ylabel(ylabel, size=20)\n",
    "    plt.xticks(fontsize=16)\n",
    "    plt.yticks(fontsize=16)\n",
    "    plt.grid('minor')\n",
    "    fig.colorbar(cb, ax=ax)\n",
    "    bbox_props = dict(facecolor='w', edgecolor='k')\n",
    "\n",
    "    # (OPTIONAL) Plot a dashed line along the diagonal\n",
    "    if ( plot_diagonal ):\n",
    "        xlims = ax.get_xlim()\n",
    "        ylims = ax.get_ylim()\n",
    "        ax.plot(xlims, ylims, linestyle='--', linewidth=1, color=[0.25,0.25,0.25])\n",
    "\n",
    "    # (OPTIONAL) Save figure if desired\n",
    "    if ( output_filepath is not None ):\n",
    "        plt.savefig(output_filepath, bbox_inches='tight')\n",
    "    plt.show()\n",
    "\n",
    "#\n",
    "def plot_regression_accuracy(y_meas, y_pred,\n",
    "                             min_error=0.0,\n",
    "                             max_error=100.0,\n",
    "                             error_type='relative',\n",
    "                             title='Model Accuracy',\n",
    "                             xlabel='Maximum Error\\n(%)',\n",
    "                             ylabel='Accuracy\\n(%)',\n",
    "                             output_filepath=None):\n",
    "    '''Plot classification accuracy of a regression model as a function of maximum\n",
    "       allowed error. For example, if we require predictions to be within +/- 10% of\n",
    "       the true measured answer, then we can convert continuous regression output to\n",
    "       a simple Y/N answer. Was the prediction within 10%?\n",
    "\n",
    "       Calculates accuracy for increasingly permissive errors. A highly-performant\n",
    "       model will have most samples fall within a small regression error.'''\n",
    "\n",
    "    # Calculate accuracy as a function of regression error\n",
    "    n_bins = 100\n",
    "    error_limits = np.linspace(min_error, max_error, n_bins)\n",
    "    accuracies = np.zeros(n_bins)\n",
    "    for n in range(n_bins):\n",
    "        accuracies[n] = regression_accuracy(y_meas, y_pred, max_error=error_limits[n], error_type=error_type)\n",
    "\n",
    "    # Set up plot\n",
    "    fig = plt.figure(figsize=[8,8], facecolor='w')\n",
    "    ax = plt.gca()\n",
    "    plt.plot(error_limits, 100*accuracies)\n",
    "\n",
    "    # Set up plot properties\n",
    "    plt.title(title, size=24)\n",
    "    plt.xlabel(xlabel, size=20)\n",
    "    plt.ylabel(ylabel, size=20)\n",
    "    plt.xticks(fontsize=16)\n",
    "    plt.yticks(fontsize=16)\n",
    "    plt.xlim([error_limits[0], error_limits[-1]])\n",
    "    plt.ylim([0,100])\n",
    "    plt.grid('minor')\n",
    "\n",
    "    # (OPTIONAL) Save figure if desired\n",
    "    if ( output_filepath is not None ):\n",
    "        plt.savefig(output_filepath, bbox_inches='tight')\n",
    "    plt.show()\n"
   ]
  },
  {
   "cell_type": "markdown",
   "metadata": {
    "id": "a9560acb"
   },
   "source": [
    "## Define function to Load The data"
   ]
  },
  {
   "cell_type": "code",
   "execution_count": 9,
   "metadata": {
    "id": "f600fd87"
   },
   "outputs": [],
   "source": [
    "pd.set_option('display.max_rows', 50)\n",
    "pd.set_option('display.max_columns', None)\n",
    "output_path = '/content'"
   ]
  },
  {
   "cell_type": "markdown",
   "metadata": {
    "id": "R-DATrr801sh"
   },
   "source": [
    "## Define function to load dataset"
   ]
  },
  {
   "cell_type": "code",
   "execution_count": 10,
   "metadata": {
    "id": "f9339ce8"
   },
   "outputs": [],
   "source": [
    "def load_dataset(input_filepath, dataset_name=None, datetime_cols=None):\n",
    "    '''Loads a *.txt file into a Pandas DataFrame'''\n",
    "    \n",
    "    t0 = time()\n",
    "    df = pd.read_csv(input_filepath, sep=',', parse_dates=datetime_cols, infer_datetime_format=True)\n",
    "\n",
    "    # Print status message\n",
    "    print('Dataset Summary')\n",
    "    print('----------------------------')\n",
    "    print('Name:    {0:s}'.format(str(dataset_name)))\n",
    "    print('Records: {0:d}'.format(df.shape[0]))\n",
    "    print('Columns: {0:d}'.format(df.shape[1]))\n",
    "    print('Size:    {0:3.2f}MB'.format(df.memory_usage(deep=True).sum() / 1000000))\n",
    "    print('Time:    {0:3.2f}s'.format(time() - t0))\n",
    "    print()\n",
    "    \n",
    "    return df"
   ]
  },
  {
   "cell_type": "markdown",
   "metadata": {
    "id": "15bb3eb2"
   },
   "source": [
    "## Load the data"
   ]
  },
  {
   "cell_type": "code",
   "execution_count": 11,
   "metadata": {
    "colab": {
     "base_uri": "https://localhost:8080/"
    },
    "id": "86699e88",
    "outputId": "86cfa9cd-1965-4832-c63a-2fd41ab02e2e"
   },
   "outputs": [
    {
     "name": "stdout",
     "output_type": "stream",
     "text": [
      "Dataset Summary\n",
      "----------------------------\n",
      "Name:    train\n",
      "Records: 18512\n",
      "Columns: 63\n",
      "Size:    12.95MB\n",
      "Time:    0.93s\n",
      "\n",
      "Dataset Summary\n",
      "----------------------------\n",
      "Name:    test\n",
      "Records: 5179\n",
      "Columns: 61\n",
      "Size:    3.54MB\n",
      "Time:    0.23s\n",
      "\n"
     ]
    }
   ],
   "source": [
    "################################################################################\n",
    "# Load input datasets\n",
    "################################################################################\n",
    "\n",
    "# Train dataset\n",
    "input_filepath = 'training_dataset.csv'\n",
    "train_df = load_dataset(input_filepath, dataset_name='train', datetime_cols=['observation_timestamp'])\n",
    "\n",
    "# Test dataset\n",
    "input_filepath = 'test_dataset.csv'\n",
    "test_df = load_dataset(input_filepath, dataset_name='test', datetime_cols=['observation_timestamp'])\n"
   ]
  },
  {
   "cell_type": "code",
   "execution_count": 12,
   "metadata": {},
   "outputs": [
    {
     "data": {
      "text/plain": [
       "Index(['observation_id', 'observation_timestamp', 'hour_of_day',\n",
       "       'register__payment_types_accepted',\n",
       "       'register__peak_sales_dollar_amt_per_hour',\n",
       "       'register__sales_dollar_amt_last_hour',\n",
       "       'register__sales_quantity_last_hour',\n",
       "       'register__sales_quantity_rescanned_frac',\n",
       "       'register__sales_payments_declined_frac',\n",
       "       'register__peak_returns_dollar_amt_per_hour',\n",
       "       'register__returns_dollar_amt_last_hour',\n",
       "       'register__returns_quantity_last_hour',\n",
       "       'register__returns_quantity_rescanned_frac', 'cashier__title_level',\n",
       "       'cashier__n_years_experience', 'cashier__hours_into_shift',\n",
       "       'cashier__item_scan_rate_per_min',\n",
       "       'cashier__item_manual_entry_rate_per_min', 'store__type_code',\n",
       "       'store__miles_to_nearest_location',\n",
       "       'store__target_sales_quantity_per_hour',\n",
       "       'store__mean_customer_to_staff_ratio',\n",
       "       'store__mean_service_time_per_customer', 'store__n_employees_total',\n",
       "       'store__n_managers', 'store__n_baggers', 'store__n_open_registers',\n",
       "       'store__is_sufficiently_staffed', 'store__occupancy_main_floor',\n",
       "       'store__occupancy_grocery', 'store__occupancy_checkout_areas',\n",
       "       'store__occupancy_food_court', 'store__occupancy_backrooms',\n",
       "       'store__occupancy_indoors', 'store__occupancy_outdoors',\n",
       "       'store__outdoor_temperature', 'store__parking_lot_utilization',\n",
       "       'store__shelf_freespace_frac', 'store__hrs_since_last_delivery',\n",
       "       'store__sales_dollar_amt_last_hour', 'store__sales_quantity_last_hour',\n",
       "       'store__sales_quantity_rescanned_frac',\n",
       "       'store__gift_sales_quantity_last_hour',\n",
       "       'store__returns_dollar_amt_last_hour',\n",
       "       'store__returns_quantity_last_hour',\n",
       "       'store__returns_quantity_rescanned_frac',\n",
       "       'store__gift_returns_quantity_last_hour', 'region__n_stores',\n",
       "       'region__n_open_registers', 'region__mean_service_time_per_customer',\n",
       "       'region__stdev_service_time_per_customer',\n",
       "       'region__sales_dollar_amt_last_hour',\n",
       "       'region__returns_dollar_amt_last_hour',\n",
       "       'region__nighttime_open_registers',\n",
       "       'region__nighttime_service_time_per_customer',\n",
       "       'region__nighttime_sales_amt_per_hour',\n",
       "       'region__nighttime_returns_amt_per_hour',\n",
       "       'region__peak_sales_dollar_amt_per_hour',\n",
       "       'region__peak_sales_dollar_amt_per_hour_v2',\n",
       "       'region__peak_returns_dollar_amt_per_hour',\n",
       "       'region__peak_returns_dollar_amt_per_hour_v2'],\n",
       "      dtype='object')"
      ]
     },
     "execution_count": 12,
     "metadata": {},
     "output_type": "execute_result"
    }
   ],
   "source": [
    "test_df.columns"
   ]
  },
  {
   "cell_type": "code",
   "execution_count": 13,
   "metadata": {},
   "outputs": [],
   "source": [
    "train_df['observation_timestamp:year'] = train_df['observation_timestamp'].dt.year\n",
    "#2\n",
    "train_df['observation_timestamp:month'] = train_df['observation_timestamp'].dt.month\n",
    "#3\n",
    "#train_df['observation_timestamp:day_of_week'] = train_df['observation_timestamp'].dt.day_of_week\n",
    "#4\n",
    "#train_df['observation_timestamp:week_of_year'] = train_df['observation_timestamp'].dt.week_of_year\n",
    "#5\n",
    "train_df['observation_timestamp:hour'] = train_df['observation_timestamp'].dt.hour\n",
    "\n",
    "\n",
    "\n",
    "test_df['observation_timestamp:year'] = test_df['observation_timestamp'].dt.year\n",
    "#2\n",
    "test_df['observation_timestamp:month'] = test_df['observation_timestamp'].dt.month\n",
    "#3\n",
    "#test_df['observation_timestamp:day_of_week'] = test_df['observation_timestamp'].dt.day_of_week\n",
    "#4\n",
    "#test_df['observation_timestamp:week_of_year'] = test_df['observation_timestamp'].dt.week_of_year\n",
    "#5\n",
    "test_df['observation_timestamp:hour'] = test_df['observation_timestamp'].dt.hour"
   ]
  },
  {
   "cell_type": "code",
   "execution_count": 14,
   "metadata": {},
   "outputs": [],
   "source": [
    "#day_part function\n",
    "def day_part(hour):\n",
    "    if hour in [4,5]:\n",
    "        return \"dawn\"\n",
    "    elif hour in [6,7]:\n",
    "        return \"early morning\"\n",
    "    elif hour in [8,9,10]:\n",
    "        return \"late morning\"\n",
    "    elif hour in [11,12,13]:\n",
    "        return \"noon\"\n",
    "    elif hour in [14,15,16]:\n",
    "        return \"afternoon\"\n",
    "    elif hour in [17, 18,19]:\n",
    "        return \"evening\"\n",
    "    elif hour in [20, 21, 22]:\n",
    "        return \"night\"\n",
    "    elif hour in [23,24,1,2,3]:\n",
    "        return \"midnight\"\n",
    "#Run function with apply method\n",
    "train_df['observation_timestamp:day_part'] = train_df['observation_timestamp:hour'].apply(day_part)\n",
    "\n",
    "test_df['observation_timestamp:day_part'] = test_df['observation_timestamp:hour'].apply(day_part)\n",
    "\n",
    "#test_df.head()  "
   ]
  },
  {
   "cell_type": "code",
   "execution_count": 15,
   "metadata": {},
   "outputs": [],
   "source": [
    "\n",
    "#1\n",
    "train_df['observation_timestamp:is_year_start'] = train_df['observation_timestamp'].dt.is_year_start\n",
    "#2\n",
    "train_df['observation_timestamp:is_quarter_start'] = train_df['observation_timestamp'].dt.is_quarter_start\n",
    "#3\n",
    "train_df['observation_timestamp:is_month_start'] =train_df['observation_timestamp'].dt.is_month_start\n",
    "#4\n",
    "train_df['observation_timestamp:is_month_end'] = train_df['observation_timestamp'].dt.is_month_end\n",
    "\n",
    "#train_df['observation_timestamp:is_weekend'] = np.where(train_df['observation_timestamp:day_of_week'].isin([5,6]), 1,0)"
   ]
  },
  {
   "cell_type": "code",
   "execution_count": 16,
   "metadata": {},
   "outputs": [],
   "source": [
    "#1#1\n",
    "test_df['observation_timestamp:is_year_start'] = test_df['observation_timestamp'].dt.is_year_start\n",
    "#2\n",
    "test_df['observation_timestamp:is_quarter_start'] = test_df['observation_timestamp'].dt.is_quarter_start\n",
    "#3\n",
    "test_df['observation_timestamp:is_month_start'] =test_df['observation_timestamp'].dt.is_month_start\n",
    "#4\n",
    "test_df['observation_timestamp:is_month_end'] = test_df['observation_timestamp'].dt.is_month_end\n"
   ]
  },
  {
   "cell_type": "code",
   "execution_count": 17,
   "metadata": {},
   "outputs": [
    {
     "data": {
      "text/plain": [
       "0.0    3715\n",
       "7.0    3369\n",
       "6.0    3055\n",
       "5.0    2074\n",
       "1.0    1649\n",
       "2.0    1273\n",
       "4.0    1215\n",
       "3.0    1146\n",
       "Name: observation_timestamp:day_part, dtype: int64"
      ]
     },
     "execution_count": 17,
     "metadata": {},
     "output_type": "execute_result"
    }
   ],
   "source": [
    "train_df['observation_timestamp:day_part']=train_df['observation_timestamp:day_part'].replace({'midnight':0,'dawn':1, 'early morning':2, 'late morning':3, 'noon':4,\n",
    "                                                       'afternoon':5,'evening':6, 'night':7 })\n",
    "      \n",
    "train_df['observation_timestamp:day_part'].value_counts()"
   ]
  },
  {
   "cell_type": "code",
   "execution_count": 18,
   "metadata": {},
   "outputs": [
    {
     "data": {
      "text/plain": [
       "0.0    992\n",
       "7.0    915\n",
       "6.0    836\n",
       "5.0    617\n",
       "1.0    446\n",
       "4.0    386\n",
       "2.0    385\n",
       "3.0    326\n",
       "Name: observation_timestamp:day_part, dtype: int64"
      ]
     },
     "execution_count": 18,
     "metadata": {},
     "output_type": "execute_result"
    }
   ],
   "source": [
    "test_df['observation_timestamp:day_part']=test_df['observation_timestamp:day_part'].replace({'midnight':0,'dawn':1, 'early morning':2, 'late morning':3, 'noon':4,\n",
    "                                                       'afternoon':5,'evening':6, 'night':7 })\n",
    "      \n",
    "test_df['observation_timestamp:day_part'].value_counts()"
   ]
  },
  {
   "cell_type": "code",
   "execution_count": 19,
   "metadata": {},
   "outputs": [],
   "source": [
    "train_df[\"Lag1\"] = train_df['register__sales_dollar_amt_last_hour'].shift(1) # Lag with 1 hours\n",
    "train_df[\"Lag2\"] = train_df['register__sales_dollar_amt_last_hour'].shift(2) # Lag with 2 hours\n",
    "train_df[\"Lag4\"] = train_df['register__sales_dollar_amt_last_hour'].shift(4) # Lag with 6 hours\n",
    "train_df[\"Lag6\"] = train_df['register__sales_dollar_amt_last_hour'].shift(6) # Lag with 3 hours\n",
    "\n",
    "\n",
    "\n",
    "train_df[\"Lag3\"] = train_df['register__sales_dollar_amt_last_hour'].shift(3) # Lag with 3 hours\n",
    "train_df[\"Lag5\"] = train_df['register__sales_dollar_amt_last_hour'].shift(5) # Lag with 5 hours\n",
    "train_df[\"Lag8\"] = train_df['register__sales_dollar_amt_last_hour'].shift(8) # Lag with 8 hours"
   ]
  },
  {
   "cell_type": "code",
   "execution_count": 20,
   "metadata": {},
   "outputs": [],
   "source": [
    "test_df[\"Lag1\"] = test_df['register__sales_dollar_amt_last_hour'].shift(1) # Lag with 1 hours\n",
    "test_df[\"Lag2\"] = test_df['register__sales_dollar_amt_last_hour'].shift(2) # Lag with 2 hours\n",
    "test_df[\"Lag4\"] = test_df['register__sales_dollar_amt_last_hour'].shift(4) # Lag with 6 hours\n",
    "test_df[\"Lag6\"] = test_df['register__sales_dollar_amt_last_hour'].shift(6) # Lag with 3 hours\n",
    "\n",
    "\n",
    "\n",
    "test_df[\"Lag3\"] = test_df['register__sales_dollar_amt_last_hour'].shift(3) # Lag with 3 hours\n",
    "test_df[\"Lag5\"] = test_df['register__sales_dollar_amt_last_hour'].shift(5) # Lag with 5 hours\n",
    "test_df[\"Lag8\"] = test_df['register__sales_dollar_amt_last_hour'].shift(8) # Lag with 8 hours"
   ]
  },
  {
   "cell_type": "code",
   "execution_count": 21,
   "metadata": {},
   "outputs": [],
   "source": [
    "train_df['ExpandingMean'] = train_df['register__sales_dollar_amt_last_hour'].expanding(6).mean()"
   ]
  },
  {
   "cell_type": "code",
   "execution_count": 22,
   "metadata": {},
   "outputs": [],
   "source": [
    "test_df['ExpandingMean'] = test_df['register__sales_dollar_amt_last_hour'].expanding(6).mean()"
   ]
  },
  {
   "cell_type": "code",
   "execution_count": 23,
   "metadata": {},
   "outputs": [],
   "source": [
    "train_df['rollingMean'] = train_df['register__sales_dollar_amt_last_hour'].rolling(window=6).mean()\n"
   ]
  },
  {
   "cell_type": "code",
   "execution_count": 24,
   "metadata": {},
   "outputs": [],
   "source": [
    "test_df['rollingMean'] = train_df['register__sales_dollar_amt_last_hour'].rolling(window=6).mean()\n"
   ]
  },
  {
   "cell_type": "markdown",
   "metadata": {
    "id": "0395122b"
   },
   "source": [
    "## Split the training data into Training and Validation(test) dataset"
   ]
  },
  {
   "cell_type": "code",
   "execution_count": 25,
   "metadata": {
    "colab": {
     "base_uri": "https://localhost:8080/"
    },
    "id": "58b7352f",
    "outputId": "ba09391d-be92-4ac4-a07a-d678746def0a"
   },
   "outputs": [
    {
     "name": "stdout",
     "output_type": "stream",
     "text": [
      "train dataset shape :(14809, 80)\n",
      "validation dataset shape : (3703, 80)\n"
     ]
    }
   ],
   "source": [
    "from sklearn.model_selection import train_test_split \n",
    "train_df,valid_df  = train_test_split(train_df,test_size=0.2,random_state=42)\n",
    "print(f\"train dataset shape :{train_df.shape}\")\n",
    "print(f\"validation dataset shape : {valid_df.shape}\")"
   ]
  },
  {
   "cell_type": "code",
   "execution_count": 26,
   "metadata": {},
   "outputs": [
    {
     "data": {
      "text/plain": [
       "Index(['Unnamed: 0', 'observation_id', 'observation_timestamp', 'hour_of_day',\n",
       "       'register__sales_dollar_amt_this_hour',\n",
       "       'register__payment_types_accepted',\n",
       "       'register__peak_sales_dollar_amt_per_hour',\n",
       "       'register__sales_dollar_amt_last_hour',\n",
       "       'register__sales_quantity_last_hour',\n",
       "       'register__sales_quantity_rescanned_frac',\n",
       "       'register__sales_payments_declined_frac',\n",
       "       'register__peak_returns_dollar_amt_per_hour',\n",
       "       'register__returns_dollar_amt_last_hour',\n",
       "       'register__returns_quantity_last_hour',\n",
       "       'register__returns_quantity_rescanned_frac', 'cashier__title_level',\n",
       "       'cashier__n_years_experience', 'cashier__hours_into_shift',\n",
       "       'cashier__item_scan_rate_per_min',\n",
       "       'cashier__item_manual_entry_rate_per_min', 'store__type_code',\n",
       "       'store__miles_to_nearest_location',\n",
       "       'store__target_sales_quantity_per_hour',\n",
       "       'store__mean_customer_to_staff_ratio',\n",
       "       'store__mean_service_time_per_customer', 'store__n_employees_total',\n",
       "       'store__n_managers', 'store__n_baggers', 'store__n_open_registers',\n",
       "       'store__is_sufficiently_staffed', 'store__occupancy_main_floor',\n",
       "       'store__occupancy_grocery', 'store__occupancy_checkout_areas',\n",
       "       'store__occupancy_food_court', 'store__occupancy_backrooms',\n",
       "       'store__occupancy_indoors', 'store__occupancy_outdoors',\n",
       "       'store__outdoor_temperature', 'store__parking_lot_utilization',\n",
       "       'store__shelf_freespace_frac', 'store__hrs_since_last_delivery',\n",
       "       'store__sales_dollar_amt_last_hour', 'store__sales_quantity_last_hour',\n",
       "       'store__sales_quantity_rescanned_frac',\n",
       "       'store__gift_sales_quantity_last_hour',\n",
       "       'store__returns_dollar_amt_last_hour',\n",
       "       'store__returns_quantity_last_hour',\n",
       "       'store__returns_quantity_rescanned_frac',\n",
       "       'store__gift_returns_quantity_last_hour', 'region__n_stores',\n",
       "       'region__n_open_registers', 'region__mean_service_time_per_customer',\n",
       "       'region__stdev_service_time_per_customer',\n",
       "       'region__sales_dollar_amt_last_hour',\n",
       "       'region__returns_dollar_amt_last_hour',\n",
       "       'region__nighttime_open_registers',\n",
       "       'region__nighttime_service_time_per_customer',\n",
       "       'region__nighttime_sales_amt_per_hour',\n",
       "       'region__nighttime_returns_amt_per_hour',\n",
       "       'region__peak_sales_dollar_amt_per_hour',\n",
       "       'region__peak_sales_dollar_amt_per_hour_v2',\n",
       "       'region__peak_returns_dollar_amt_per_hour',\n",
       "       'region__peak_returns_dollar_amt_per_hour_v2',\n",
       "       'observation_timestamp:year', 'observation_timestamp:month',\n",
       "       'observation_timestamp:hour', 'observation_timestamp:day_part',\n",
       "       'observation_timestamp:is_year_start',\n",
       "       'observation_timestamp:is_quarter_start',\n",
       "       'observation_timestamp:is_month_start',\n",
       "       'observation_timestamp:is_month_end', 'Lag1', 'Lag2', 'Lag4', 'Lag6',\n",
       "       'Lag3', 'Lag5', 'Lag8', 'ExpandingMean', 'rollingMean'],\n",
       "      dtype='object')"
      ]
     },
     "execution_count": 26,
     "metadata": {},
     "output_type": "execute_result"
    }
   ],
   "source": [
    "train_df.columns"
   ]
  },
  {
   "cell_type": "markdown",
   "metadata": {
    "id": "28489fd2"
   },
   "source": [
    "## Defining Features and Targets\n",
    "\n",
    "This is just for reference, competitors are free chose the features of their and experiment further."
   ]
  },
  {
   "cell_type": "code",
   "execution_count": 27,
   "metadata": {
    "colab": {
     "base_uri": "https://localhost:8080/"
    },
    "id": "b4eb6c3c",
    "outputId": "f1fa93e8-b99f-4286-d3c8-d4643e33e96f"
   },
   "outputs": [
    {
     "name": "stdout",
     "output_type": "stream",
     "text": [
      "Target Variable: register__sales_dollar_amt_this_hour\n",
      "----------------------------------------\n",
      "Units:  $/hr\n",
      "Mean:   1167.42 +/- 818.84\n",
      "IQR:    1087.46\n",
      "\n",
      "|---------+---------+---------+---------+---------+---------+---------|\n",
      "|   Min   |   10%   |   25%   |   Med   |   75%   |   90%   |   Max   |\n",
      "|---------+---------+---------+---------+---------+---------+---------|\n",
      "|  15.71  | 309.48  | 369.19  | 1162.25 | 1456.65 | 2178.95 | 4978.65 |\n",
      "|---------+---------+---------+---------+---------+---------+---------|\n"
     ]
    }
   ],
   "source": [
    "################################################################################\n",
    "# Define training target & feature columns\n",
    "# NOTE: All columns will need to be numeric to work with sklearn or XGBoost! \n",
    "################################################################################\n",
    "\n",
    "# Target: What we're trying to predict\n",
    "target_col = 'register__sales_dollar_amt_this_hour'\n",
    "target_units = '$/hr'\n",
    "target_label = 'Register Sales Per Hour'\n",
    "target_range = [0,5000]\n",
    "\n",
    "# Index: What uniquely determines each record?\n",
    "index_col = 'observation_id'\n",
    "\n",
    "# Features: What we're using to predict the target\n",
    "# NOTE: See the data dictionary for a complete list of available features\n",
    "feature_cols = [\n",
    "       'hour_of_day',\n",
    "       'register__peak_sales_dollar_amt_per_hour',\n",
    "       'register__sales_dollar_amt_last_hour',\n",
    "       'register__sales_quantity_last_hour',\n",
    "       'register__sales_quantity_rescanned_frac',\n",
    "       'register__sales_payments_declined_frac',\n",
    "       'register__peak_returns_dollar_amt_per_hour',\n",
    "       'register__returns_dollar_amt_last_hour',\n",
    "       'register__returns_quantity_last_hour',\n",
    "       'register__returns_quantity_rescanned_frac', 'cashier__title_level',\n",
    "       'cashier__n_years_experience', 'cashier__hours_into_shift',\n",
    "       'cashier__item_scan_rate_per_min',\n",
    "       'cashier__item_manual_entry_rate_per_min',\n",
    "       'store__miles_to_nearest_location',\n",
    "       'store__target_sales_quantity_per_hour',\n",
    "       'store__mean_customer_to_staff_ratio',\n",
    "       'store__mean_service_time_per_customer', 'store__n_employees_total',\n",
    "       'store__n_managers', 'store__n_baggers', 'store__n_open_registers',\n",
    "       'store__is_sufficiently_staffed', 'store__occupancy_main_floor',\n",
    "       'store__occupancy_grocery', 'store__occupancy_checkout_areas',\n",
    "       'store__occupancy_food_court', 'store__occupancy_backrooms',\n",
    "       'store__occupancy_indoors', 'store__occupancy_outdoors',\n",
    "       'store__outdoor_temperature', 'store__parking_lot_utilization',\n",
    "       'store__shelf_freespace_frac', 'store__hrs_since_last_delivery',\n",
    "       'store__sales_dollar_amt_last_hour', 'store__sales_quantity_last_hour',\n",
    "       'store__sales_quantity_rescanned_frac',\n",
    "       'store__gift_sales_quantity_last_hour',\n",
    "       'store__returns_dollar_amt_last_hour',\n",
    "       'store__returns_quantity_last_hour',\n",
    "       'store__returns_quantity_rescanned_frac',\n",
    "       'store__gift_returns_quantity_last_hour', 'region__n_stores',\n",
    "       'region__n_open_registers', 'region__mean_service_time_per_customer',\n",
    "       'region__stdev_service_time_per_customer',\n",
    "       'region__sales_dollar_amt_last_hour',\n",
    "       'region__returns_dollar_amt_last_hour',\n",
    "       'region__nighttime_open_registers',\n",
    "       'region__nighttime_service_time_per_customer',\n",
    "       'region__nighttime_sales_amt_per_hour',\n",
    "       'region__nighttime_returns_amt_per_hour',\n",
    "       'region__peak_sales_dollar_amt_per_hour',\n",
    "       'region__peak_returns_dollar_amt_per_hour','observation_timestamp:year', 'observation_timestamp:month',\n",
    "       'observation_timestamp:hour', 'observation_timestamp:day_part',\n",
    "       'observation_timestamp:is_year_start',\n",
    "       'observation_timestamp:is_quarter_start',\n",
    "       'observation_timestamp:is_month_start',\n",
    "       'observation_timestamp:is_month_end', 'ExpandingMean', 'Lag1', 'Lag5',\n",
    "       'Lag8', 'rollingMean', 'Lag2', 'Lag4', 'Lag6', 'Lag3'\n",
    "\n",
    "]\n",
    "\n",
    "# Metadata: Not used in model training, but kept to tag the data\n",
    "metadata_cols = ['observation_timestamp']\n",
    "\n",
    "# Unused: All other columns (e.x. Unusable or unknown columns)\n",
    "available_cols = train_df.columns.values\n",
    "used_cols = [index_col, target_col] + feature_cols + metadata_cols\n",
    "unused_cols = [col for col in available_cols if col not in used_cols]\n",
    "\n",
    "# Print summary stats for the target variable\n",
    "target_mean = train_df[target_col].mean()\n",
    "target_std = train_df[target_col].std()\n",
    "target_min = train_df[target_col].min()\n",
    "target_max = train_df[target_col].max()\n",
    "target_quantiles = train_df[target_col].quantile([0.1, 0.25, 0.5, 0.75, 0.9]).values\n",
    "target_iqr = target_quantiles[3] - target_quantiles[1]\n",
    "print('Target Variable: {0:s}'.format(target_col))\n",
    "print('----------------------------------------')\n",
    "print('Units:  {0:s}'.format(target_units))\n",
    "print('Mean:   {0:3.2f} +/- {1:3.2f}'.format(target_mean, target_std))\n",
    "print('IQR:    {0:3.2f}'.format(target_iqr))\n",
    "print()\n",
    "print('|---------+---------+---------+---------+---------+---------+---------|')\n",
    "print('|   Min   |   10%   |   25%   |   Med   |   75%   |   90%   |   Max   |')\n",
    "print('|---------+---------+---------+---------+---------+---------+---------|')\n",
    "print('|{0:^9.2f}|{1:^9.2f}|{2:^9.2f}|{3:^9.2f}|{4:^9.2f}|{5:^9.2f}|{6:^9.2f}|'.format(target_min, target_quantiles[0], target_quantiles[1], target_quantiles[2], target_quantiles[3], target_quantiles[4], target_max))\n",
    "print('|---------+---------+---------+---------+---------+---------+---------|')\n"
   ]
  },
  {
   "cell_type": "code",
   "execution_count": 28,
   "metadata": {},
   "outputs": [
    {
     "data": {
      "text/plain": [
       "['hour_of_day',\n",
       " 'register__peak_sales_dollar_amt_per_hour',\n",
       " 'register__sales_dollar_amt_last_hour',\n",
       " 'register__sales_quantity_last_hour',\n",
       " 'register__sales_quantity_rescanned_frac',\n",
       " 'register__sales_payments_declined_frac',\n",
       " 'register__peak_returns_dollar_amt_per_hour',\n",
       " 'register__returns_dollar_amt_last_hour',\n",
       " 'register__returns_quantity_last_hour',\n",
       " 'register__returns_quantity_rescanned_frac',\n",
       " 'cashier__title_level',\n",
       " 'cashier__n_years_experience',\n",
       " 'cashier__hours_into_shift',\n",
       " 'cashier__item_scan_rate_per_min',\n",
       " 'cashier__item_manual_entry_rate_per_min',\n",
       " 'store__miles_to_nearest_location',\n",
       " 'store__target_sales_quantity_per_hour',\n",
       " 'store__mean_customer_to_staff_ratio',\n",
       " 'store__mean_service_time_per_customer',\n",
       " 'store__n_employees_total',\n",
       " 'store__n_managers',\n",
       " 'store__n_baggers',\n",
       " 'store__n_open_registers',\n",
       " 'store__is_sufficiently_staffed',\n",
       " 'store__occupancy_main_floor',\n",
       " 'store__occupancy_grocery',\n",
       " 'store__occupancy_checkout_areas',\n",
       " 'store__occupancy_food_court',\n",
       " 'store__occupancy_backrooms',\n",
       " 'store__occupancy_indoors',\n",
       " 'store__occupancy_outdoors',\n",
       " 'store__outdoor_temperature',\n",
       " 'store__parking_lot_utilization',\n",
       " 'store__shelf_freespace_frac',\n",
       " 'store__hrs_since_last_delivery',\n",
       " 'store__sales_dollar_amt_last_hour',\n",
       " 'store__sales_quantity_last_hour',\n",
       " 'store__sales_quantity_rescanned_frac',\n",
       " 'store__gift_sales_quantity_last_hour',\n",
       " 'store__returns_dollar_amt_last_hour',\n",
       " 'store__returns_quantity_last_hour',\n",
       " 'store__returns_quantity_rescanned_frac',\n",
       " 'store__gift_returns_quantity_last_hour',\n",
       " 'region__n_stores',\n",
       " 'region__n_open_registers',\n",
       " 'region__mean_service_time_per_customer',\n",
       " 'region__stdev_service_time_per_customer',\n",
       " 'region__sales_dollar_amt_last_hour',\n",
       " 'region__returns_dollar_amt_last_hour',\n",
       " 'region__nighttime_open_registers',\n",
       " 'region__nighttime_service_time_per_customer',\n",
       " 'region__nighttime_sales_amt_per_hour',\n",
       " 'region__nighttime_returns_amt_per_hour',\n",
       " 'region__peak_sales_dollar_amt_per_hour',\n",
       " 'region__peak_returns_dollar_amt_per_hour',\n",
       " 'observation_timestamp:year',\n",
       " 'observation_timestamp:month',\n",
       " 'observation_timestamp:hour',\n",
       " 'observation_timestamp:day_part',\n",
       " 'observation_timestamp:is_year_start',\n",
       " 'observation_timestamp:is_quarter_start',\n",
       " 'observation_timestamp:is_month_start',\n",
       " 'observation_timestamp:is_month_end',\n",
       " 'ExpandingMean',\n",
       " 'Lag1',\n",
       " 'Lag5',\n",
       " 'Lag8',\n",
       " 'rollingMean',\n",
       " 'Lag2',\n",
       " 'Lag4',\n",
       " 'Lag6',\n",
       " 'Lag3']"
      ]
     },
     "execution_count": 28,
     "metadata": {},
     "output_type": "execute_result"
    }
   ],
   "source": [
    "feature_cols"
   ]
  },
  {
   "cell_type": "markdown",
   "metadata": {
    "id": "73158ec7"
   },
   "source": [
    "## Data Transformations"
   ]
  },
  {
   "cell_type": "code",
   "execution_count": 29,
   "metadata": {
    "colab": {
     "base_uri": "https://localhost:8080/"
    },
    "id": "2d19ef7d",
    "outputId": "edf51100-6097-4cc5-9e41-f65b4ea4ac41"
   },
   "outputs": [
    {
     "name": "stdout",
     "output_type": "stream",
     "text": [
      "Transforming 'train' dataset...\n",
      "WARN: Replaced  819 NULLs   (observation_timestamp:day_part)\n",
      "WARN: Replaced    3 NULLs   (ExpandingMean)\n",
      "WARN: Replaced    3 NULLs   (Lag5)\n",
      "WARN: Replaced    6 NULLs   (Lag8)\n",
      "WARN: Replaced    3 NULLs   (rollingMean)\n",
      "WARN: Replaced    1 NULLs   (Lag2)\n",
      "WARN: Replaced    2 NULLs   (Lag4)\n",
      "WARN: Replaced    4 NULLs   (Lag6)\n",
      "WARN: Replaced    2 NULLs   (Lag3)\n",
      "\n",
      "Transforming 'test' dataset...\n",
      "WARN: Replaced  276 NULLs   (observation_timestamp:day_part)\n",
      "WARN: Replaced    5 NULLs   (ExpandingMean)\n",
      "WARN: Replaced    1 NULLs   (Lag1)\n",
      "WARN: Replaced    5 NULLs   (Lag5)\n",
      "WARN: Replaced    8 NULLs   (Lag8)\n",
      "WARN: Replaced    5 NULLs   (rollingMean)\n",
      "WARN: Replaced    2 NULLs   (Lag2)\n",
      "WARN: Replaced    4 NULLs   (Lag4)\n",
      "WARN: Replaced    6 NULLs   (Lag6)\n",
      "WARN: Replaced    3 NULLs   (Lag3)\n",
      "\n",
      "Transforming 'validation' dataset...\n",
      "WARN: Replaced  197 NULLs   (observation_timestamp:day_part)\n",
      "WARN: Replaced    2 NULLs   (ExpandingMean)\n",
      "WARN: Replaced    1 NULLs   (Lag1)\n",
      "WARN: Replaced    2 NULLs   (Lag5)\n",
      "WARN: Replaced    2 NULLs   (Lag8)\n",
      "WARN: Replaced    2 NULLs   (rollingMean)\n",
      "WARN: Replaced    1 NULLs   (Lag2)\n",
      "WARN: Replaced    2 NULLs   (Lag4)\n",
      "WARN: Replaced    2 NULLs   (Lag6)\n",
      "WARN: Replaced    1 NULLs   (Lag3)\n",
      "\n",
      "\n",
      "Transformations complete.\n"
     ]
    }
   ],
   "source": [
    "################################################################################\n",
    "# Do some basic transformations\n",
    "################################################################################\n",
    "\n",
    "# This will only include one-hot encoding & NULL-imputation here.\n",
    "# Let's transform each input dataset separately\n",
    "categorical_cols = ['register__payment_types_accepted', 'store__type_code']\n",
    "imputation_cols = [col for col in feature_cols if col not in categorical_cols]\n",
    "\n",
    "# Dataset: train\n",
    "print('Transforming \\'train\\' dataset...')\n",
    "train_df = encode_categoricals(train_df, categorical_cols)\n",
    "[train_df, imputation_mapping] = impute_nulls(train_df, imputation_cols)\n",
    "print()\n",
    "\n",
    "# Dataset: test\n",
    "print('Transforming \\'test\\' dataset...')\n",
    "test_df = encode_categoricals(test_df, categorical_cols)\n",
    "[test_df, imputation_mapping] = impute_nulls(test_df, imputation_cols, imputation_mapping=imputation_mapping)\n",
    "print()\n",
    "\n",
    "# Dataset: validation\n",
    "print('Transforming \\'validation\\' dataset...')\n",
    "valid_df = encode_categoricals(valid_df, categorical_cols)\n",
    "[valid_df, imputation_mapping] = impute_nulls(valid_df, imputation_cols, imputation_mapping=imputation_mapping)\n",
    "print()\n",
    "\n",
    "# Print status\n",
    "print()\n",
    "print('Transformations complete.')\n"
   ]
  },
  {
   "cell_type": "markdown",
   "metadata": {
    "id": "c0591459"
   },
   "source": [
    "## Re-weight training samples"
   ]
  },
  {
   "cell_type": "code",
   "execution_count": 30,
   "metadata": {
    "colab": {
     "base_uri": "https://localhost:8080/",
     "height": 601
    },
    "id": "b6d9536f",
    "outputId": "3720ad3e-d075-4bcb-a247-e995473329ec"
   },
   "outputs": [
    {
     "data": {
      "image/png": "[encoded data removed]",
      "text/plain": [
       "<Figure size 576x288 with 1 Axes>"
      ]
     },
     "metadata": {
      "needs_background": "light"
     },
     "output_type": "display_data"
    },
    {
     "data": {
      "image/png": "[encoded data removed]",
      "text/plain": [
       "<Figure size 576x288 with 1 Axes>"
      ]
     },
     "metadata": {
      "needs_background": "light"
     },
     "output_type": "display_data"
    }
   ],
   "source": [
    "################################################################################\n",
    "# Reweight training samples to reduce bias & improve performance where we have\n",
    "# less data available. The resulting model should generalize somewhat better\n",
    "################################################################################\n",
    "\n",
    "target_vals = train_df[target_col].values\n",
    "target_bins = np.linspace(target_range[0],target_range[1],501)\n",
    "smoothing_kernel_props = {'size': 51, 'sigma': 7}\n",
    "sample_weights = get_sample_weights(target_vals, target_bins, \n",
    "                                    smoothing_kernel_props=smoothing_kernel_props, \n",
    "                                    weighting_method='inverse_square', \n",
    "                                    max_weight=10,\n",
    "                                    make_plots=True)\n",
    "train_df['sample_weights'] = sample_weights\n"
   ]
  },
  {
   "cell_type": "code",
   "execution_count": 31,
   "metadata": {
    "colab": {
     "base_uri": "https://localhost:8080/"
    },
    "id": "f2032c19",
    "outputId": "5f18e818-7ed4-4346-b6d4-96252a405212"
   },
   "outputs": [
    {
     "name": "stdout",
     "output_type": "stream",
     "text": [
      "Dataset Summary\n",
      "----------------------------------------\n",
      "Train:         14809 samples  x  72 features \n",
      "Test:           5179 samples  x  72 features \n",
      "Validation:     3703 samples  x  72 features \n"
     ]
    }
   ],
   "source": [
    "################################################################################\n",
    "# Build train/test datasets that are suitable as modeling inputs\n",
    "################################################################################\n",
    "\n",
    "# Extract features, targets, and (optionally) weights\n",
    "X_train = train_df[feature_cols].values\n",
    "y_train = train_df[target_col].values\n",
    "wt_train = train_df['sample_weights'].values\n",
    "\n",
    "X_test = test_df[feature_cols].values\n",
    "#y_test = test_df[target_col].values # Commented out as y_test does not exist in the data\n",
    "\n",
    "X_valid = valid_df[feature_cols].values\n",
    "y_valid = valid_df[target_col].values\n",
    "\n",
    "print('Dataset Summary')\n",
    "print('-'*40)\n",
    "print('Train:         {0:>5d} samples  x  {1:d} features '.format(X_train.shape[0], X_train.shape[1]))\n",
    "print('Test:          {0:>5d} samples  x  {1:d} features '.format(X_test.shape[0], X_test.shape[1]))\n",
    "print('Validation:    {0:>5d} samples  x  {1:d} features '.format(X_valid.shape[0], X_valid.shape[1]))\n"
   ]
  },
  {
   "cell_type": "code",
   "execution_count": 32,
   "metadata": {},
   "outputs": [
    {
     "name": "stdout",
     "output_type": "stream",
     "text": [
      "0:\tlearn: 581.6243879\ttotal: 226ms\tremaining: 47.4s\n",
      "1:\tlearn: 532.3186410\ttotal: 368ms\tremaining: 38.5s\n",
      "2:\tlearn: 495.0017157\ttotal: 549ms\tremaining: 38s\n",
      "3:\tlearn: 457.9369232\ttotal: 657ms\tremaining: 34s\n",
      "4:\tlearn: 427.6414303\ttotal: 751ms\tremaining: 30.9s\n",
      "5:\tlearn: 398.2000491\ttotal: 877ms\tremaining: 30s\n",
      "6:\tlearn: 375.7710653\ttotal: 991ms\tremaining: 28.9s\n",
      "7:\tlearn: 352.4368384\ttotal: 1.09s\tremaining: 27.7s\n",
      "8:\tlearn: 327.1553427\ttotal: 1.18s\tremaining: 26.4s\n",
      "9:\tlearn: 304.7727543\ttotal: 1.3s\tremaining: 26.1s\n",
      "10:\tlearn: 284.5671675\ttotal: 1.39s\tremaining: 25.3s\n",
      "11:\tlearn: 268.0727563\ttotal: 1.48s\tremaining: 24.6s\n",
      "12:\tlearn: 253.7603057\ttotal: 1.59s\tremaining: 24.3s\n",
      "13:\tlearn: 239.1229861\ttotal: 1.71s\tremaining: 24s\n",
      "14:\tlearn: 225.8395714\ttotal: 1.78s\tremaining: 23.3s\n",
      "15:\tlearn: 214.0721885\ttotal: 1.88s\tremaining: 22.9s\n",
      "16:\tlearn: 203.3001354\ttotal: 1.95s\tremaining: 22.2s\n",
      "17:\tlearn: 194.2414760\ttotal: 2.03s\tremaining: 21.7s\n",
      "18:\tlearn: 186.7134889\ttotal: 2.1s\tremaining: 21.3s\n",
      "19:\tlearn: 179.4507402\ttotal: 2.17s\tremaining: 20.8s\n",
      "20:\tlearn: 172.7726077\ttotal: 2.25s\tremaining: 20.3s\n",
      "21:\tlearn: 166.5226860\ttotal: 2.34s\tremaining: 20.1s\n",
      "22:\tlearn: 160.8785003\ttotal: 2.43s\tremaining: 19.8s\n",
      "23:\tlearn: 155.9341812\ttotal: 2.52s\tremaining: 19.6s\n",
      "24:\tlearn: 152.4583808\ttotal: 2.59s\tremaining: 19.2s\n",
      "25:\tlearn: 149.0700966\ttotal: 2.66s\tremaining: 18.9s\n",
      "26:\tlearn: 145.2270295\ttotal: 2.75s\tremaining: 18.7s\n",
      "27:\tlearn: 142.2305837\ttotal: 2.83s\tremaining: 18.5s\n",
      "28:\tlearn: 140.0044202\ttotal: 2.91s\tremaining: 18.3s\n",
      "29:\tlearn: 137.4726802\ttotal: 2.97s\tremaining: 17.9s\n",
      "30:\tlearn: 135.6241893\ttotal: 3.02s\tremaining: 17.5s\n",
      "31:\tlearn: 133.8336481\ttotal: 3.08s\tremaining: 17.2s\n",
      "32:\tlearn: 132.6574819\ttotal: 3.15s\tremaining: 17s\n",
      "33:\tlearn: 131.6325701\ttotal: 3.2s\tremaining: 16.7s\n",
      "34:\tlearn: 129.8404578\ttotal: 3.26s\tremaining: 16.4s\n",
      "35:\tlearn: 128.8745321\ttotal: 3.32s\tremaining: 16.1s\n",
      "36:\tlearn: 128.0343289\ttotal: 3.39s\tremaining: 15.9s\n",
      "37:\tlearn: 126.6906337\ttotal: 3.45s\tremaining: 15.7s\n",
      "38:\tlearn: 125.6077521\ttotal: 3.51s\tremaining: 15.5s\n",
      "39:\tlearn: 124.6597456\ttotal: 3.58s\tremaining: 15.3s\n",
      "40:\tlearn: 123.9248230\ttotal: 3.64s\tremaining: 15.1s\n",
      "41:\tlearn: 123.6232414\ttotal: 3.69s\tremaining: 14.9s\n",
      "42:\tlearn: 123.1404943\ttotal: 3.74s\tremaining: 14.6s\n",
      "43:\tlearn: 122.2505887\ttotal: 3.78s\tremaining: 14.4s\n",
      "44:\tlearn: 121.4517071\ttotal: 3.85s\tremaining: 14.2s\n",
      "45:\tlearn: 120.4751925\ttotal: 3.9s\tremaining: 14s\n",
      "46:\tlearn: 120.1261366\ttotal: 3.95s\tremaining: 13.8s\n",
      "47:\tlearn: 119.6214691\ttotal: 3.99s\tremaining: 13.6s\n",
      "48:\tlearn: 119.0095348\ttotal: 4.05s\tremaining: 13.4s\n",
      "49:\tlearn: 118.5564880\ttotal: 4.11s\tremaining: 13.2s\n",
      "50:\tlearn: 117.9866121\ttotal: 4.15s\tremaining: 13s\n",
      "51:\tlearn: 116.9830500\ttotal: 4.19s\tremaining: 12.8s\n",
      "52:\tlearn: 116.4417685\ttotal: 4.26s\tremaining: 12.7s\n",
      "53:\tlearn: 116.1310366\ttotal: 4.31s\tremaining: 12.5s\n",
      "54:\tlearn: 115.6074559\ttotal: 4.36s\tremaining: 12.4s\n",
      "55:\tlearn: 115.3583127\ttotal: 4.4s\tremaining: 12.2s\n",
      "56:\tlearn: 114.7136174\ttotal: 4.46s\tremaining: 12s\n",
      "57:\tlearn: 114.3867981\ttotal: 4.5s\tremaining: 11.9s\n",
      "58:\tlearn: 114.0948330\ttotal: 4.55s\tremaining: 11.7s\n",
      "59:\tlearn: 113.5353840\ttotal: 4.6s\tremaining: 11.6s\n",
      "60:\tlearn: 113.2386113\ttotal: 4.65s\tremaining: 11.4s\n",
      "61:\tlearn: 112.8467674\ttotal: 4.69s\tremaining: 11.3s\n",
      "62:\tlearn: 112.1300378\ttotal: 4.73s\tremaining: 11.1s\n",
      "63:\tlearn: 111.8751734\ttotal: 4.77s\tremaining: 11s\n",
      "64:\tlearn: 111.4407319\ttotal: 4.82s\tremaining: 10.8s\n",
      "65:\tlearn: 111.0467601\ttotal: 4.87s\tremaining: 10.7s\n",
      "66:\tlearn: 110.7569740\ttotal: 4.91s\tremaining: 10.5s\n",
      "67:\tlearn: 110.3802208\ttotal: 4.95s\tremaining: 10.4s\n",
      "68:\tlearn: 109.9556830\ttotal: 4.98s\tremaining: 10.3s\n",
      "69:\tlearn: 109.7753953\ttotal: 5.03s\tremaining: 10.1s\n",
      "70:\tlearn: 109.6765113\ttotal: 5.08s\tremaining: 10s\n",
      "71:\tlearn: 109.4751949\ttotal: 5.13s\tremaining: 9.9s\n",
      "72:\tlearn: 109.2249666\ttotal: 5.17s\tremaining: 9.78s\n",
      "73:\tlearn: 108.8551897\ttotal: 5.21s\tremaining: 9.66s\n",
      "74:\tlearn: 108.5964905\ttotal: 5.27s\tremaining: 9.55s\n",
      "75:\tlearn: 108.2204846\ttotal: 5.31s\tremaining: 9.43s\n",
      "76:\tlearn: 107.7056921\ttotal: 5.34s\tremaining: 9.3s\n",
      "77:\tlearn: 107.2163219\ttotal: 5.38s\tremaining: 9.17s\n",
      "78:\tlearn: 106.9110078\ttotal: 5.41s\tremaining: 9.04s\n",
      "79:\tlearn: 106.6968970\ttotal: 5.49s\tremaining: 8.98s\n",
      "80:\tlearn: 106.6248693\ttotal: 5.52s\tremaining: 8.87s\n",
      "81:\tlearn: 106.2849765\ttotal: 5.56s\tremaining: 8.74s\n",
      "82:\tlearn: 105.7547418\ttotal: 5.6s\tremaining: 8.63s\n",
      "83:\tlearn: 105.2019353\ttotal: 5.65s\tremaining: 8.54s\n",
      "84:\tlearn: 105.0253310\ttotal: 5.69s\tremaining: 8.44s\n",
      "85:\tlearn: 104.7556941\ttotal: 5.73s\tremaining: 8.32s\n",
      "86:\tlearn: 104.5072515\ttotal: 5.76s\tremaining: 8.21s\n",
      "87:\tlearn: 104.4096430\ttotal: 5.8s\tremaining: 8.1s\n",
      "88:\tlearn: 104.1027453\ttotal: 5.84s\tremaining: 8.01s\n",
      "89:\tlearn: 103.6827290\ttotal: 5.88s\tremaining: 7.91s\n",
      "90:\tlearn: 103.4570453\ttotal: 5.92s\tremaining: 7.81s\n",
      "91:\tlearn: 103.0545901\ttotal: 5.95s\tremaining: 7.7s\n",
      "92:\tlearn: 102.6480186\ttotal: 5.99s\tremaining: 7.6s\n",
      "93:\tlearn: 102.1343669\ttotal: 6.04s\tremaining: 7.52s\n",
      "94:\tlearn: 101.9160516\ttotal: 6.08s\tremaining: 7.43s\n",
      "95:\tlearn: 101.7180035\ttotal: 6.12s\tremaining: 7.33s\n",
      "96:\tlearn: 101.5107613\ttotal: 6.15s\tremaining: 7.23s\n",
      "97:\tlearn: 101.1829531\ttotal: 6.2s\tremaining: 7.14s\n",
      "98:\tlearn: 100.9355605\ttotal: 6.24s\tremaining: 7.06s\n",
      "99:\tlearn: 100.7588160\ttotal: 6.28s\tremaining: 6.97s\n",
      "100:\tlearn: 100.5696169\ttotal: 6.31s\tremaining: 6.87s\n",
      "101:\tlearn: 100.1349506\ttotal: 6.35s\tremaining: 6.78s\n",
      "102:\tlearn: 100.0223709\ttotal: 6.38s\tremaining: 6.69s\n",
      "103:\tlearn: 99.8262202\ttotal: 6.44s\tremaining: 6.62s\n",
      "104:\tlearn: 99.5135659\ttotal: 6.47s\tremaining: 6.54s\n",
      "105:\tlearn: 99.2425892\ttotal: 6.51s\tremaining: 6.45s\n",
      "106:\tlearn: 98.9922487\ttotal: 6.57s\tremaining: 6.38s\n",
      "107:\tlearn: 98.8834496\ttotal: 6.63s\tremaining: 6.32s\n",
      "108:\tlearn: 98.5625243\ttotal: 6.67s\tremaining: 6.24s\n",
      "109:\tlearn: 98.1102282\ttotal: 6.7s\tremaining: 6.15s\n",
      "110:\tlearn: 97.9142690\ttotal: 6.74s\tremaining: 6.07s\n",
      "111:\tlearn: 97.5477295\ttotal: 6.78s\tremaining: 5.99s\n",
      "112:\tlearn: 97.3756050\ttotal: 6.82s\tremaining: 5.91s\n",
      "113:\tlearn: 97.1968905\ttotal: 6.85s\tremaining: 5.83s\n",
      "114:\tlearn: 97.0267073\ttotal: 6.88s\tremaining: 5.75s\n",
      "115:\tlearn: 96.8137551\ttotal: 6.92s\tremaining: 5.67s\n",
      "116:\tlearn: 96.7305368\ttotal: 6.95s\tremaining: 5.59s\n",
      "117:\tlearn: 96.3696604\ttotal: 7.01s\tremaining: 5.52s\n",
      "118:\tlearn: 96.2599975\ttotal: 7.04s\tremaining: 5.44s\n",
      "119:\tlearn: 96.1003809\ttotal: 7.07s\tremaining: 5.36s\n",
      "120:\tlearn: 96.0333718\ttotal: 7.11s\tremaining: 5.29s\n",
      "121:\tlearn: 95.9414179\ttotal: 7.14s\tremaining: 5.21s\n",
      "122:\tlearn: 95.7819248\ttotal: 7.2s\tremaining: 5.15s\n",
      "123:\tlearn: 95.6645203\ttotal: 7.23s\tremaining: 5.07s\n",
      "124:\tlearn: 95.5242921\ttotal: 7.26s\tremaining: 5s\n",
      "125:\tlearn: 95.3546129\ttotal: 7.3s\tremaining: 4.92s\n",
      "126:\tlearn: 95.2782428\ttotal: 7.33s\tremaining: 4.85s\n",
      "127:\tlearn: 95.0866444\ttotal: 7.38s\tremaining: 4.78s\n",
      "128:\tlearn: 94.9754950\ttotal: 7.41s\tremaining: 4.71s\n",
      "129:\tlearn: 94.8915281\ttotal: 7.44s\tremaining: 4.64s\n",
      "130:\tlearn: 94.6558561\ttotal: 7.49s\tremaining: 4.57s\n",
      "131:\tlearn: 94.5692173\ttotal: 7.52s\tremaining: 4.5s\n",
      "132:\tlearn: 94.2570786\ttotal: 7.57s\tremaining: 4.44s\n",
      "133:\tlearn: 94.0460021\ttotal: 7.6s\tremaining: 4.37s\n",
      "134:\tlearn: 93.9165279\ttotal: 7.64s\tremaining: 4.3s\n",
      "135:\tlearn: 93.8316761\ttotal: 7.67s\tremaining: 4.23s\n",
      "136:\tlearn: 93.6497654\ttotal: 7.7s\tremaining: 4.16s\n",
      "137:\tlearn: 93.4858010\ttotal: 7.75s\tremaining: 4.1s\n",
      "138:\tlearn: 93.3087166\ttotal: 7.78s\tremaining: 4.03s\n",
      "139:\tlearn: 93.2161940\ttotal: 7.82s\tremaining: 3.96s\n",
      "140:\tlearn: 93.1068050\ttotal: 7.85s\tremaining: 3.9s\n",
      "141:\tlearn: 93.0300258\ttotal: 7.88s\tremaining: 3.83s\n",
      "142:\tlearn: 92.9446811\ttotal: 7.93s\tremaining: 3.77s\n",
      "143:\tlearn: 92.8725125\ttotal: 7.97s\tremaining: 3.71s\n",
      "144:\tlearn: 92.7500642\ttotal: 8s\tremaining: 3.64s\n",
      "145:\tlearn: 92.6261382\ttotal: 8.04s\tremaining: 3.58s\n",
      "146:\tlearn: 92.5396572\ttotal: 8.08s\tremaining: 3.52s\n",
      "147:\tlearn: 92.3910102\ttotal: 8.12s\tremaining: 3.46s\n",
      "148:\tlearn: 92.3127640\ttotal: 8.16s\tremaining: 3.4s\n",
      "149:\tlearn: 92.1665035\ttotal: 8.19s\tremaining: 3.33s\n",
      "150:\tlearn: 92.1221074\ttotal: 8.23s\tremaining: 3.27s\n",
      "151:\tlearn: 91.9954514\ttotal: 8.27s\tremaining: 3.21s\n",
      "152:\tlearn: 91.8823144\ttotal: 8.31s\tremaining: 3.15s\n",
      "153:\tlearn: 91.6799037\ttotal: 8.34s\tremaining: 3.09s\n",
      "154:\tlearn: 91.5539973\ttotal: 8.38s\tremaining: 3.03s\n",
      "155:\tlearn: 91.4769812\ttotal: 8.41s\tremaining: 2.97s\n",
      "156:\tlearn: 91.3913731\ttotal: 8.45s\tremaining: 2.91s\n"
     ]
    },
    {
     "name": "stdout",
     "output_type": "stream",
     "text": [
      "157:\tlearn: 91.2939230\ttotal: 8.49s\tremaining: 2.85s\n",
      "158:\tlearn: 91.0883860\ttotal: 8.52s\tremaining: 2.79s\n",
      "159:\tlearn: 90.9714139\ttotal: 8.57s\tremaining: 2.73s\n",
      "160:\tlearn: 90.8940819\ttotal: 8.62s\tremaining: 2.68s\n",
      "161:\tlearn: 90.8355106\ttotal: 8.65s\tremaining: 2.62s\n",
      "162:\tlearn: 90.6257486\ttotal: 8.69s\tremaining: 2.56s\n",
      "163:\tlearn: 90.5278725\ttotal: 8.72s\tremaining: 2.5s\n",
      "164:\tlearn: 90.4250277\ttotal: 8.76s\tremaining: 2.44s\n",
      "165:\tlearn: 90.2674360\ttotal: 8.79s\tremaining: 2.38s\n",
      "166:\tlearn: 90.2045799\ttotal: 8.83s\tremaining: 2.33s\n",
      "167:\tlearn: 90.1181754\ttotal: 8.87s\tremaining: 2.27s\n",
      "168:\tlearn: 90.0476396\ttotal: 8.9s\tremaining: 2.21s\n",
      "169:\tlearn: 89.9268899\ttotal: 8.94s\tremaining: 2.15s\n",
      "170:\tlearn: 89.8283503\ttotal: 8.98s\tremaining: 2.1s\n",
      "171:\tlearn: 89.7635601\ttotal: 9.02s\tremaining: 2.04s\n",
      "172:\tlearn: 89.6818336\ttotal: 9.05s\tremaining: 1.99s\n",
      "173:\tlearn: 89.5902691\ttotal: 9.09s\tremaining: 1.93s\n",
      "174:\tlearn: 89.4976371\ttotal: 9.13s\tremaining: 1.88s\n",
      "175:\tlearn: 89.3064917\ttotal: 9.16s\tremaining: 1.82s\n",
      "176:\tlearn: 89.1218805\ttotal: 9.2s\tremaining: 1.77s\n",
      "177:\tlearn: 89.0169678\ttotal: 9.24s\tremaining: 1.71s\n",
      "178:\tlearn: 88.9282282\ttotal: 9.28s\tremaining: 1.66s\n",
      "179:\tlearn: 88.8573578\ttotal: 9.31s\tremaining: 1.6s\n",
      "180:\tlearn: 88.7910352\ttotal: 9.34s\tremaining: 1.55s\n",
      "181:\tlearn: 88.5899721\ttotal: 9.38s\tremaining: 1.49s\n",
      "182:\tlearn: 88.4813354\ttotal: 9.41s\tremaining: 1.44s\n",
      "183:\tlearn: 88.4272897\ttotal: 9.45s\tremaining: 1.39s\n",
      "184:\tlearn: 88.3414889\ttotal: 9.49s\tremaining: 1.33s\n",
      "185:\tlearn: 88.2662100\ttotal: 9.52s\tremaining: 1.28s\n",
      "186:\tlearn: 88.2163358\ttotal: 9.55s\tremaining: 1.23s\n",
      "187:\tlearn: 88.1710249\ttotal: 9.59s\tremaining: 1.17s\n",
      "188:\tlearn: 88.0202902\ttotal: 9.63s\tremaining: 1.12s\n",
      "189:\tlearn: 87.9227653\ttotal: 9.68s\tremaining: 1.07s\n",
      "190:\tlearn: 87.8441882\ttotal: 9.71s\tremaining: 1.02s\n",
      "191:\tlearn: 87.6797849\ttotal: 9.74s\tremaining: 964ms\n",
      "192:\tlearn: 87.6030352\ttotal: 9.78s\tremaining: 912ms\n",
      "193:\tlearn: 87.5402016\ttotal: 9.81s\tremaining: 860ms\n",
      "194:\tlearn: 87.4241408\ttotal: 9.85s\tremaining: 809ms\n",
      "195:\tlearn: 87.2981838\ttotal: 9.89s\tremaining: 757ms\n",
      "196:\tlearn: 87.2249434\ttotal: 9.92s\tremaining: 705ms\n",
      "197:\tlearn: 87.1528632\ttotal: 9.96s\tremaining: 654ms\n",
      "198:\tlearn: 87.0170891\ttotal: 9.99s\tremaining: 602ms\n",
      "199:\tlearn: 86.9764748\ttotal: 10s\tremaining: 552ms\n",
      "200:\tlearn: 86.8980993\ttotal: 10.1s\tremaining: 501ms\n",
      "201:\tlearn: 86.7761776\ttotal: 10.1s\tremaining: 450ms\n",
      "202:\tlearn: 86.7316513\ttotal: 10.1s\tremaining: 399ms\n",
      "203:\tlearn: 86.5387236\ttotal: 10.2s\tremaining: 349ms\n",
      "204:\tlearn: 86.5091224\ttotal: 10.2s\tremaining: 299ms\n",
      "205:\tlearn: 86.3630635\ttotal: 10.3s\tremaining: 249ms\n",
      "206:\tlearn: 86.3003498\ttotal: 10.3s\tremaining: 199ms\n",
      "207:\tlearn: 86.2278048\ttotal: 10.3s\tremaining: 149ms\n",
      "208:\tlearn: 86.1338726\ttotal: 10.4s\tremaining: 99.1ms\n",
      "209:\tlearn: 86.0425744\ttotal: 10.4s\tremaining: 49.5ms\n",
      "210:\tlearn: 86.0144743\ttotal: 10.4s\tremaining: 0us\n"
     ]
    }
   ],
   "source": [
    "from catboost import CatBoostRegressor\n",
    "\n",
    "cb_params = {'objective':'MAE','depth': 7, 'iterations': 211, 'learning_rate': 0.1, 'verbose': 1,\n",
    "             'task_type': 'CPU','od_type':'Iter','od_wait': 200}\n",
    "cb = CatBoostRegressor(**cb_params, random_state=42)\n",
    "\n",
    "cb.fit(X_train,y_train)\n",
    "\n",
    "y_pred = cb.predict(X_valid)\n"
   ]
  },
  {
   "cell_type": "markdown",
   "metadata": {
    "id": "85c7af62"
   },
   "source": [
    "## Evaluate the performance of the model"
   ]
  },
  {
   "cell_type": "code",
   "execution_count": 33,
   "metadata": {
    "colab": {
     "base_uri": "https://localhost:8080/",
     "height": 1000
    },
    "id": "97512342",
    "outputId": "7de9532b-1c4d-4cfe-857c-100f29898bc8"
   },
   "outputs": [
    {
     "name": "stdout",
     "output_type": "stream",
     "text": [
      "    prediction\n",
      "0  1139.627630\n",
      "1   298.197995\n",
      "2  1390.105511\n",
      "3  2152.357889\n",
      "4   354.681301\n",
      "Model Performance Summary\n",
      "Target: Register Sales Per Hour ($/hr)\n",
      "----------------------------------------\n",
      "\n",
      "Model Performance (Train)\n",
      "# of Samples: 14809\n",
      "-- R^2:    0.9378 +/- 0.0020\n",
      "-- RMSE:   204.15 +/- 3.83\n",
      "-- MAE:    102.66 +/- 1.56\n",
      "-- MAPE:     14.7 +/- 1.0%\n",
      "-- RAcc relative:    83.83 +/- 0.52%\n",
      "\n",
      "Model Performance (Test)\n",
      "# of Samples: 3703\n",
      "-- R^2:    0.9498\n",
      "-- RMSE:   182.93\n",
      "-- MAE:     99.44\n",
      "-- MAPE:     14.0%\n",
      "-- RAcc relative :    83.58%\n",
      "\n"
     ]
    }
   ],
   "source": [
    "################################################################################\n",
    "# Evaluate model performance ('validation' dataset)\n",
    "# NOTE: Make sure 'valid_df' is already loaded & the data has been transformed!\n",
    "################################################################################\n",
    "\n",
    "# Evaluate model performance on both train/validation datasets\n",
    "[eval_results__train, eval_results__test] = evaluate_regression_model(cb, \n",
    "                                                                      X_train=X_train, y_train=y_train, wt_train=wt_train, \n",
    "                                                                      X_test=X_valid, y_test=y_valid, \n",
    "                                                                      y_lims=[0,None])\n",
    "y_meas = eval_results__test['data']['y_meas']\n",
    "y_pred = eval_results__test['data']['y_pred']\n",
    "r2 = eval_results__test['r2']\n",
    "result_df = pd.DataFrame({'prediction':y_pred})\n",
    "print(result_df.head())\n",
    "result_df.to_csv('validation_results.csv', index=False)\n",
    "# Print a performance summary\n",
    "n_samples__train = X_train.shape[0]\n",
    "n_samples__test = X_valid.shape[0]\n",
    "print('Model Performance Summary')\n",
    "print('Target: {0:s} ({1:s})'.format(target_label, target_units))\n",
    "print('-'*40)\n",
    "#print('Hyperparameters')\n",
    "#print('-- {0:<16s} {1:d}'.format('n_estimators:', hyperparameters['n_estimators']))\n",
    "#print('-- {0:<16s} {1:d}'.format('max_depth:', hyperparameters['max_depth']))\n",
    "#print('-- {0:<16s} {1:3.3f}'.format('learning_rate:', hyperparameters['learning_rate']))\n",
    "print('\\nModel Performance (Train)')\n",
    "print('# of Samples: {0:d}'.format(n_samples__train))\n",
    "print('-- R^2:  {0:>8.4f} +/- {1:3.4f}'.format(eval_results__train['r2']['mean'], eval_results__train['r2']['std']))\n",
    "print('-- RMSE: {0:>8.2f} +/- {1:3.2f}'.format(eval_results__train['rmse']['mean'], eval_results__train['rmse']['std']))\n",
    "print('-- MAE:  {0:>8.2f} +/- {1:3.2f}'.format(eval_results__train['mae']['mean'], eval_results__train['mae']['std']))\n",
    "print('-- MAPE: {0:>8.1f} +/- {1:3.1f}%'.format(100*eval_results__train['mape']['mean'], 100*eval_results__train['mape']['std']))\n",
    "print('-- RAcc relative: {0:>8.2f} +/- {1:3.2f}%'.format(100*eval_results__train['racc']['mean'], 100*eval_results__train['racc']['std']))\n",
    "print('\\nModel Performance (Test)')\n",
    "print('# of Samples: {0:d}'.format(n_samples__test))\n",
    "print('-- R^2:  {0:>8.4f}'.format(eval_results__test['r2']))\n",
    "print('-- RMSE: {0:>8.2f}'.format(eval_results__test['rmse']))\n",
    "print('-- MAE:  {0:>8.2f}'.format(eval_results__test['mae']))\n",
    "print('-- MAPE: {0:>8.1f}%'.format(100*eval_results__test['mape']))\n",
    "print('-- RAcc relative : {0:>8.2f}%'.format(100*eval_results__test['racc']))\n",
    "print()\n",
    "\n",
    "\n"
   ]
  },
  {
   "cell_type": "markdown",
   "metadata": {
    "id": "87ef8423"
   },
   "source": [
    "## Make Predictions"
   ]
  },
  {
   "cell_type": "code",
   "execution_count": 34,
   "metadata": {
    "colab": {
     "base_uri": "https://localhost:8080/"
    },
    "id": "11162fef",
    "outputId": "4f9d3600-fb3c-4e37-e583-c1d7ddfac74a"
   },
   "outputs": [
    {
     "data": {
      "text/plain": [
       "(5179, 72)"
      ]
     },
     "execution_count": 34,
     "metadata": {},
     "output_type": "execute_result"
    }
   ],
   "source": [
    "X_test.shape"
   ]
  },
  {
   "cell_type": "code",
   "execution_count": 35,
   "metadata": {
    "id": "6dbe1fbf"
   },
   "outputs": [],
   "source": [
    "predictions = cb.predict(X_test)"
   ]
  },
  {
   "cell_type": "code",
   "execution_count": 36,
   "metadata": {
    "colab": {
     "base_uri": "https://localhost:8080/"
    },
    "id": "aef0c5f7",
    "outputId": "0a3bb57f-f28f-4c5c-aa22-15c63c5123d1"
   },
   "outputs": [
    {
     "name": "stdout",
     "output_type": "stream",
     "text": [
      "[1839.61678992  370.96002808 1438.35876347 ...  970.65728425 1163.96118084\n",
      " 1111.37338524]\n"
     ]
    }
   ],
   "source": [
    "print(predictions)"
   ]
  },
  {
   "cell_type": "markdown",
   "metadata": {
    "id": "29d4a4f9"
   },
   "source": [
    "## Export predictions into a .csv file for submission"
   ]
  },
  {
   "cell_type": "code",
   "execution_count": 37,
   "metadata": {
    "id": "d23e0541"
   },
   "outputs": [],
   "source": [
    "results_df = pd.DataFrame({'prediction':predictions})"
   ]
  },
  {
   "cell_type": "code",
   "execution_count": 38,
   "metadata": {
    "colab": {
     "base_uri": "https://localhost:8080/",
     "height": 206
    },
    "id": "0c240205",
    "outputId": "2f3e941b-d97e-46a5-c981-1110646fbdcf"
   },
   "outputs": [
    {
     "data": {
      "text/html": [
       "<div>\n",
       "<style scoped>\n",
       "    .dataframe tbody tr th:only-of-type {\n",
       "        vertical-align: middle;\n",
       "    }\n",
       "\n",
       "    .dataframe tbody tr th {\n",
       "        vertical-align: top;\n",
       "    }\n",
       "\n",
       "    .dataframe thead th {\n",
       "        text-align: right;\n",
       "    }\n",
       "</style>\n",
       "<table border=\"1\" class=\"dataframe\">\n",
       "  <thead>\n",
       "    <tr style=\"text-align: right;\">\n",
       "      <th></th>\n",
       "      <th>prediction</th>\n",
       "    </tr>\n",
       "  </thead>\n",
       "  <tbody>\n",
       "    <tr>\n",
       "      <th>0</th>\n",
       "      <td>1839.616790</td>\n",
       "    </tr>\n",
       "    <tr>\n",
       "      <th>1</th>\n",
       "      <td>370.960028</td>\n",
       "    </tr>\n",
       "    <tr>\n",
       "      <th>2</th>\n",
       "      <td>1438.358763</td>\n",
       "    </tr>\n",
       "    <tr>\n",
       "      <th>3</th>\n",
       "      <td>270.156660</td>\n",
       "    </tr>\n",
       "    <tr>\n",
       "      <th>4</th>\n",
       "      <td>380.488122</td>\n",
       "    </tr>\n",
       "  </tbody>\n",
       "</table>\n",
       "</div>"
      ],
      "text/plain": [
       "    prediction\n",
       "0  1839.616790\n",
       "1   370.960028\n",
       "2  1438.358763\n",
       "3   270.156660\n",
       "4   380.488122"
      ]
     },
     "execution_count": 38,
     "metadata": {},
     "output_type": "execute_result"
    }
   ],
   "source": [
    "results_df.head()"
   ]
  },
  {
   "cell_type": "code",
   "execution_count": 39,
   "metadata": {
    "id": "8a0e7fed"
   },
   "outputs": [],
   "source": [
    "results_df.to_csv('predictions15.csv',index=False)"
   ]
  },
  {
   "cell_type": "code",
   "execution_count": null,
   "metadata": {},
   "outputs": [],
   "source": []
  }
 ],
 "metadata": {
  "colab": {
   "provenance": []
  },
  "kernelspec": {
   "display_name": "Python 3",
   "language": "python",
   "name": "python3"
  },
  "language_info": {
   "codemirror_mode": {
    "name": "ipython",
    "version": 3
   },
   "file_extension": ".py",
   "mimetype": "text/x-python",
   "name": "python",
   "nbconvert_exporter": "python",
   "pygments_lexer": "ipython3",
   "version": "3.8.3"
  }
 },
 "nbformat": 4,
 "nbformat_minor": 5
}
